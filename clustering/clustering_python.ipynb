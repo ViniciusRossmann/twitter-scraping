{
 "cells": [
  {
   "cell_type": "markdown",
   "id": "9780324b",
   "metadata": {},
   "source": [
    "#### Importando bibliotecas"
   ]
  },
  {
   "cell_type": "code",
   "execution_count": 1,
   "id": "01a486c8",
   "metadata": {},
   "outputs": [],
   "source": [
    "import pandas as pd\n",
    "import numpy as np\n",
    "from sklearn.cluster import KMeans"
   ]
  },
  {
   "cell_type": "markdown",
   "id": "08214f48",
   "metadata": {},
   "source": [
    "#### Lendo arquivos de postagens e vetorização"
   ]
  },
  {
   "cell_type": "code",
   "execution_count": 2,
   "id": "a81c1fda",
   "metadata": {},
   "outputs": [],
   "source": [
    "vetorizacao = pd.read_csv('../data/vetorizacao.csv')\n",
    "with open('../data/tweets.csv', encoding=\"utf8\") as file:\n",
    "    tweets = file.readlines()"
   ]
  },
  {
   "cell_type": "markdown",
   "id": "e2c7b756",
   "metadata": {},
   "source": [
    "#### Aplicando o Kmeans"
   ]
  },
  {
   "cell_type": "code",
   "execution_count": 3,
   "id": "0b8c644d",
   "metadata": {},
   "outputs": [],
   "source": [
    "kmeans = KMeans(n_clusters = 3)\n",
    "pred_y = kmeans.fit_predict(vetorizacao)"
   ]
  },
  {
   "cell_type": "code",
   "execution_count": 4,
   "id": "a5bf8b63",
   "metadata": {},
   "outputs": [
    {
     "data": {
      "text/html": [
       "<div>\n",
       "<style scoped>\n",
       "    .dataframe tbody tr th:only-of-type {\n",
       "        vertical-align: middle;\n",
       "    }\n",
       "\n",
       "    .dataframe tbody tr th {\n",
       "        vertical-align: top;\n",
       "    }\n",
       "\n",
       "    .dataframe thead th {\n",
       "        text-align: right;\n",
       "    }\n",
       "</style>\n",
       "<table border=\"1\" class=\"dataframe\">\n",
       "  <thead>\n",
       "    <tr style=\"text-align: right;\">\n",
       "      <th></th>\n",
       "      <th>tweet</th>\n",
       "      <th>rotulo</th>\n",
       "    </tr>\n",
       "  </thead>\n",
       "  <tbody>\n",
       "    <tr>\n",
       "      <th>0</th>\n",
       "      <td>Bolsonaro é louco e eu sou o Lula jump jump jump</td>\n",
       "      <td>0</td>\n",
       "    </tr>\n",
       "    <tr>\n",
       "      <th>1</th>\n",
       "      <td>taehyung performando sentado sendo superior a qualquer um</td>\n",
       "      <td>0</td>\n",
       "    </tr>\n",
       "    <tr>\n",
       "      <th>2</th>\n",
       "      <td>Campanha de Bolsonaro quer evitar fake news nos celulares de assessores https://veja.abril.com.br/coluna/radar/campanha-de-bolsonaro-quer-evitar-fake-news-nos-celulares-de-assessores/…</td>\n",
       "      <td>0</td>\n",
       "    </tr>\n",
       "    <tr>\n",
       "      <th>3</th>\n",
       "      <td>Hipocrisia agente vê por aqui com a SIMONE ESTEPE.Lapada: Michelle Bolsonaro expõe “hipocrisia” de Simone Tebet; VEJA ☛</td>\n",
       "      <td>2</td>\n",
       "    </tr>\n",
       "    <tr>\n",
       "      <th>4</th>\n",
       "      <td>Meu Presidente tava aqui em São Luís e eu não pude ir ver ele. . .  @LulaOficial . . .#LulaNo1ºTurno #LulaPresidente13 #Lula13</td>\n",
       "      <td>0</td>\n",
       "    </tr>\n",
       "  </tbody>\n",
       "</table>\n",
       "</div>"
      ],
      "text/plain": [
       "                                                                                                                                                                                      tweet  \\\n",
       "0                                                                                                                                          Bolsonaro é louco e eu sou o Lula jump jump jump   \n",
       "1                                                                                                                                 taehyung performando sentado sendo superior a qualquer um   \n",
       "2  Campanha de Bolsonaro quer evitar fake news nos celulares de assessores https://veja.abril.com.br/coluna/radar/campanha-de-bolsonaro-quer-evitar-fake-news-nos-celulares-de-assessores/…   \n",
       "3                                                                   Hipocrisia agente vê por aqui com a SIMONE ESTEPE.Lapada: Michelle Bolsonaro expõe “hipocrisia” de Simone Tebet; VEJA ☛   \n",
       "4                                                            Meu Presidente tava aqui em São Luís e eu não pude ir ver ele. . .  @LulaOficial . . .#LulaNo1ºTurno #LulaPresidente13 #Lula13   \n",
       "\n",
       "   rotulo  \n",
       "0       0  \n",
       "1       0  \n",
       "2       0  \n",
       "3       2  \n",
       "4       0  "
      ]
     },
     "execution_count": 4,
     "metadata": {},
     "output_type": "execute_result"
    }
   ],
   "source": [
    "pd.set_option('display.max_colwidth', None)\n",
    "df = pd.DataFrame(data={'tweet': tweets, 'rotulo': pred_y})\n",
    "df[\"tweet\"] = df[\"tweet\"].apply(lambda x: x.replace(\"\\n\", \"\"))\n",
    "df.head()"
   ]
  },
  {
   "cell_type": "markdown",
   "id": "036d2a52",
   "metadata": {},
   "source": [
    "### Classificação manual"
   ]
  },
  {
   "cell_type": "markdown",
   "id": "b9a12a47",
   "metadata": {},
   "source": [
    "#### Selecionando amostras"
   ]
  },
  {
   "cell_type": "code",
   "execution_count": 5,
   "id": "d5e9acbf",
   "metadata": {},
   "outputs": [
    {
     "data": {
      "text/html": [
       "<div>\n",
       "<style scoped>\n",
       "    .dataframe tbody tr th:only-of-type {\n",
       "        vertical-align: middle;\n",
       "    }\n",
       "\n",
       "    .dataframe tbody tr th {\n",
       "        vertical-align: top;\n",
       "    }\n",
       "\n",
       "    .dataframe thead th {\n",
       "        text-align: right;\n",
       "    }\n",
       "</style>\n",
       "<table border=\"1\" class=\"dataframe\">\n",
       "  <thead>\n",
       "    <tr style=\"text-align: right;\">\n",
       "      <th></th>\n",
       "      <th>tweet</th>\n",
       "      <th>rotulo</th>\n",
       "    </tr>\n",
       "  </thead>\n",
       "  <tbody>\n",
       "    <tr>\n",
       "      <th>1399</th>\n",
       "      <td>Ei  @jairbolsonaro  vai tomar no cu</td>\n",
       "      <td>0</td>\n",
       "    </tr>\n",
       "    <tr>\n",
       "      <th>1550</th>\n",
       "      <td>O TSE acatou o pedido da  @simonetebetbr  e mandou remover o vídeo de campanha com primeira dama Michelle Bolsonaro. Será quê este vídeo a Simone vai pedir ao STF para remover este vídeo também???</td>\n",
       "      <td>0</td>\n",
       "    </tr>\n",
       "    <tr>\n",
       "      <th>1246</th>\n",
       "      <td>Gabriela Prioli rebate Bolsonaro: 'Sinto medo mas não me calo' - Politica - Estado de Minas https://em.com.br/app/noticia/politica/2022/09/02/interna_politica,1390843/gabriela-prioli-rebate-bolsonaro-sinto-medo-mas-nao-me-calo.shtml…   Quem ataca também tem que ter peito para aguentar verdades.  Simples assim.</td>\n",
       "      <td>0</td>\n",
       "    </tr>\n",
       "    <tr>\n",
       "      <th>1416</th>\n",
       "      <td>É Lula 13 para reconstruir o Brasil destruído pelo bolsonarismo!</td>\n",
       "      <td>0</td>\n",
       "    </tr>\n",
       "    <tr>\n",
       "      <th>812</th>\n",
       "      <td>Bolsonaro é morte  Bolsonaro é uma peste...</td>\n",
       "      <td>0</td>\n",
       "    </tr>\n",
       "  </tbody>\n",
       "</table>\n",
       "</div>"
      ],
      "text/plain": [
       "                                                                                                                                                                                                                                                                                                                        tweet  \\\n",
       "1399                                                                                                                                                                                                                                                                                      Ei  @jairbolsonaro  vai tomar no cu   \n",
       "1550                                                                                                                     O TSE acatou o pedido da  @simonetebetbr  e mandou remover o vídeo de campanha com primeira dama Michelle Bolsonaro. Será quê este vídeo a Simone vai pedir ao STF para remover este vídeo também???   \n",
       "1246  Gabriela Prioli rebate Bolsonaro: 'Sinto medo mas não me calo' - Politica - Estado de Minas https://em.com.br/app/noticia/politica/2022/09/02/interna_politica,1390843/gabriela-prioli-rebate-bolsonaro-sinto-medo-mas-nao-me-calo.shtml…   Quem ataca também tem que ter peito para aguentar verdades.  Simples assim.   \n",
       "1416                                                                                                                                                                                                                                                         É Lula 13 para reconstruir o Brasil destruído pelo bolsonarismo!   \n",
       "812                                                                                                                                                                                                                                                                               Bolsonaro é morte  Bolsonaro é uma peste...   \n",
       "\n",
       "      rotulo  \n",
       "1399       0  \n",
       "1550       0  \n",
       "1246       0  \n",
       "1416       0  \n",
       "812        0  "
      ]
     },
     "execution_count": 5,
     "metadata": {},
     "output_type": "execute_result"
    }
   ],
   "source": [
    "amostra0 = df[df.rotulo==0].sample(n=5)\n",
    "amostra0"
   ]
  },
  {
   "cell_type": "markdown",
   "id": "0ea126ad",
   "metadata": {},
   "source": [
    "Podemos ver que nem todas as amostras representam o mesmo sentimento, portanto, refaremos a classificação do grupo:"
   ]
  },
  {
   "cell_type": "code",
   "execution_count": 10,
   "id": "ca6bc2b2",
   "metadata": {},
   "outputs": [
    {
     "data": {
      "text/html": [
       "<div>\n",
       "<style scoped>\n",
       "    .dataframe tbody tr th:only-of-type {\n",
       "        vertical-align: middle;\n",
       "    }\n",
       "\n",
       "    .dataframe tbody tr th {\n",
       "        vertical-align: top;\n",
       "    }\n",
       "\n",
       "    .dataframe thead th {\n",
       "        text-align: right;\n",
       "    }\n",
       "</style>\n",
       "<table border=\"1\" class=\"dataframe\">\n",
       "  <thead>\n",
       "    <tr style=\"text-align: right;\">\n",
       "      <th></th>\n",
       "      <th>tweet</th>\n",
       "      <th>rotulo</th>\n",
       "    </tr>\n",
       "  </thead>\n",
       "  <tbody>\n",
       "    <tr>\n",
       "      <th>731</th>\n",
       "      <td>Comunista lixo escoria , a vergonha do mato grosso do sul  @simonetebetbr</td>\n",
       "      <td>0</td>\n",
       "    </tr>\n",
       "    <tr>\n",
       "      <th>341</th>\n",
       "      <td>Que vergonha... @simonetebetbr</td>\n",
       "      <td>0</td>\n",
       "    </tr>\n",
       "    <tr>\n",
       "      <th>1856</th>\n",
       "      <td>Cria vergonha na cara  @simonetebetbr</td>\n",
       "      <td>0</td>\n",
       "    </tr>\n",
       "    <tr>\n",
       "      <th>2589</th>\n",
       "      <td>A senhora  @simonetebetbr  É uma VERGONHA! NÃO representa as mulheres brasileiras! #MulheresComBolsonaro #VaiSerNoPrimeiroTurno</td>\n",
       "      <td>0</td>\n",
       "    </tr>\n",
       "    <tr>\n",
       "      <th>601</th>\n",
       "      <td>Alô  @simonetebetbr  a vergonha vem parcelada</td>\n",
       "      <td>0</td>\n",
       "    </tr>\n",
       "  </tbody>\n",
       "</table>\n",
       "</div>"
      ],
      "text/plain": [
       "                                                                                                                                 tweet  \\\n",
       "731                                                          Comunista lixo escoria , a vergonha do mato grosso do sul  @simonetebetbr   \n",
       "341                                                                                                     Que vergonha... @simonetebetbr   \n",
       "1856                                                                                             Cria vergonha na cara  @simonetebetbr   \n",
       "2589  A senhora  @simonetebetbr  É uma VERGONHA! NÃO representa as mulheres brasileiras! #MulheresComBolsonaro #VaiSerNoPrimeiroTurno    \n",
       "601                                                                                      Alô  @simonetebetbr  a vergonha vem parcelada   \n",
       "\n",
       "      rotulo  \n",
       "731        0  \n",
       "341        0  \n",
       "1856       0  \n",
       "2589       0  \n",
       "601        0  "
      ]
     },
     "execution_count": 10,
     "metadata": {},
     "output_type": "execute_result"
    }
   ],
   "source": [
    "grupo = vetorizacao[vetorizacao.index.isin(df[df.rotulo==0].index)]\n",
    "new_predict = kmeans.fit_predict(grupo)\n",
    "df.loc[df['rotulo'] == 0, 'rotulo'] = new_predict\n",
    "amostra0 = df[df.rotulo==0].sample(n=5)\n",
    "amostra0"
   ]
  },
  {
   "cell_type": "markdown",
   "id": "ca674f62",
   "metadata": {},
   "source": [
    "Podemos ver que agora todos os dados da amostra possuem o mesmo sentimento (negativo), então vamos atribuí-lo:"
   ]
  },
  {
   "cell_type": "code",
   "execution_count": 12,
   "id": "6ac34ec2",
   "metadata": {},
   "outputs": [],
   "source": [
    "df.loc[df['rotulo'] == 0, 'rotulo'] = 'negativo'"
   ]
  },
  {
   "cell_type": "markdown",
   "id": "33db7eee",
   "metadata": {},
   "source": [
    "Agora iremos repetir esse processo para todos os grupos: "
   ]
  },
  {
   "cell_type": "code",
   "execution_count": 29,
   "id": "8b3cfe2e",
   "metadata": {},
   "outputs": [
    {
     "data": {
      "text/html": [
       "<div>\n",
       "<style scoped>\n",
       "    .dataframe tbody tr th:only-of-type {\n",
       "        vertical-align: middle;\n",
       "    }\n",
       "\n",
       "    .dataframe tbody tr th {\n",
       "        vertical-align: top;\n",
       "    }\n",
       "\n",
       "    .dataframe thead th {\n",
       "        text-align: right;\n",
       "    }\n",
       "</style>\n",
       "<table border=\"1\" class=\"dataframe\">\n",
       "  <thead>\n",
       "    <tr style=\"text-align: right;\">\n",
       "      <th></th>\n",
       "      <th>tweet</th>\n",
       "      <th>rotulo</th>\n",
       "    </tr>\n",
       "  </thead>\n",
       "  <tbody>\n",
       "    <tr>\n",
       "      <th>797</th>\n",
       "      <td>Redes Sociais Ciro Gomes Abr/22 a Ago/22 Destaque: Ciro bateu vários recordes em Ago/22! O Twitter, Tiktok e principalmente Instagram explodiram de seguidores nesse último mês! Só digo uma coisa CIRO CRESCE!!</td>\n",
       "      <td>1</td>\n",
       "    </tr>\n",
       "    <tr>\n",
       "      <th>3834</th>\n",
       "      <td>“Qualquer imbecil sabe que Lula e Bolsonaro são pessoas diferentes”, diz Ciro Gomes</td>\n",
       "      <td>1</td>\n",
       "    </tr>\n",
       "    <tr>\n",
       "      <th>4089</th>\n",
       "      <td>Vou ali no microondas e apertar 13 pq não aguento mais esperar .   LULA EU AUTORIZO  #LulaNo1ºTurno</td>\n",
       "      <td>1</td>\n",
       "    </tr>\n",
       "    <tr>\n",
       "      <th>1537</th>\n",
       "      <td>Bolsonaro ligou a metralhadora giratória. Ataca Ciro, ataca Tebet, ataca Lula. Inadmissível o ataque que faz a @veramagalhaes</td>\n",
       "      <td>1</td>\n",
       "    </tr>\n",
       "    <tr>\n",
       "      <th>2099</th>\n",
       "      <td>Deus abençoe presidente @LulaOficial nos pastores evangélicos que não nos corrompemos estamos orando pelo Sr, e o Brasil  será feliz de novo . Lula13</td>\n",
       "      <td>1</td>\n",
       "    </tr>\n",
       "  </tbody>\n",
       "</table>\n",
       "</div>"
      ],
      "text/plain": [
       "                                                                                                                                                                                                                 tweet  \\\n",
       "797   Redes Sociais Ciro Gomes Abr/22 a Ago/22 Destaque: Ciro bateu vários recordes em Ago/22! O Twitter, Tiktok e principalmente Instagram explodiram de seguidores nesse último mês! Só digo uma coisa CIRO CRESCE!!   \n",
       "3834                                                                                                                               “Qualquer imbecil sabe que Lula e Bolsonaro são pessoas diferentes”, diz Ciro Gomes   \n",
       "4089                                                                                                               Vou ali no microondas e apertar 13 pq não aguento mais esperar .   LULA EU AUTORIZO  #LulaNo1ºTurno   \n",
       "1537                                                                                     Bolsonaro ligou a metralhadora giratória. Ataca Ciro, ataca Tebet, ataca Lula. Inadmissível o ataque que faz a @veramagalhaes   \n",
       "2099                                                             Deus abençoe presidente @LulaOficial nos pastores evangélicos que não nos corrompemos estamos orando pelo Sr, e o Brasil  será feliz de novo . Lula13   \n",
       "\n",
       "     rotulo  \n",
       "797       1  \n",
       "3834      1  \n",
       "4089      1  \n",
       "1537      1  \n",
       "2099      1  "
      ]
     },
     "execution_count": 29,
     "metadata": {},
     "output_type": "execute_result"
    }
   ],
   "source": [
    "amostra1 = df[df.rotulo==1].sample(n=5)\n",
    "amostra1"
   ]
  },
  {
   "cell_type": "code",
   "execution_count": 30,
   "id": "eb1bd9e5",
   "metadata": {},
   "outputs": [],
   "source": [
    "grupo = vetorizacao[vetorizacao.index.isin(df[df.rotulo==1].index)]\n",
    "new_predict = kmeans.fit_predict(grupo)\n",
    "df.loc[df['rotulo'] == 1, 'rotulo'] = new_predict"
   ]
  },
  {
   "cell_type": "code",
   "execution_count": 34,
   "id": "0905f6ba",
   "metadata": {},
   "outputs": [
    {
     "data": {
      "text/html": [
       "<div>\n",
       "<style scoped>\n",
       "    .dataframe tbody tr th:only-of-type {\n",
       "        vertical-align: middle;\n",
       "    }\n",
       "\n",
       "    .dataframe tbody tr th {\n",
       "        vertical-align: top;\n",
       "    }\n",
       "\n",
       "    .dataframe thead th {\n",
       "        text-align: right;\n",
       "    }\n",
       "</style>\n",
       "<table border=\"1\" class=\"dataframe\">\n",
       "  <thead>\n",
       "    <tr style=\"text-align: right;\">\n",
       "      <th></th>\n",
       "      <th>tweet</th>\n",
       "      <th>rotulo</th>\n",
       "    </tr>\n",
       "  </thead>\n",
       "  <tbody>\n",
       "    <tr>\n",
       "      <th>3130</th>\n",
       "      <td>Só isso que restou dos 200 anos da Independência,Lula ou Bolsonaro? Não gente, há  @cirogomes  e  @simonetebetbr #3aViaMudaBrasil  Pesquisa Senado: aliados de Lula são favoritos em sete estados, e de Bolsonaro, em quatro; veja os números | Pulso | O Globo</td>\n",
       "      <td>1</td>\n",
       "    </tr>\n",
       "    <tr>\n",
       "      <th>1605</th>\n",
       "      <td>Opinião - Vinicius Torres Freire: Como Bolsonaro pode encostar em Lula</td>\n",
       "      <td>1</td>\n",
       "    </tr>\n",
       "    <tr>\n",
       "      <th>2550</th>\n",
       "      <td>É Lula ou fascismo</td>\n",
       "      <td>1</td>\n",
       "    </tr>\n",
       "    <tr>\n",
       "      <th>1527</th>\n",
       "      <td>Lula vs Bolsonaro EM COREANO! #shorts https://youtube.com/shorts/QXSaq7UTcMo?feature=share… via  @YouTube</td>\n",
       "      <td>1</td>\n",
       "    </tr>\n",
       "    <tr>\n",
       "      <th>3278</th>\n",
       "      <td>Lula é um chefe de quadrilha condenado. Ex-presidiário. Nunca foi inocentado.  Fatos são fatos.</td>\n",
       "      <td>1</td>\n",
       "    </tr>\n",
       "  </tbody>\n",
       "</table>\n",
       "</div>"
      ],
      "text/plain": [
       "                                                                                                                                                                                                                                                                tweet  \\\n",
       "3130  Só isso que restou dos 200 anos da Independência,Lula ou Bolsonaro? Não gente, há  @cirogomes  e  @simonetebetbr #3aViaMudaBrasil  Pesquisa Senado: aliados de Lula são favoritos em sete estados, e de Bolsonaro, em quatro; veja os números | Pulso | O Globo   \n",
       "1605                                                                                                                                                                                           Opinião - Vinicius Torres Freire: Como Bolsonaro pode encostar em Lula   \n",
       "2550                                                                                                                                                                                                                                               É Lula ou fascismo   \n",
       "1527                                                                                                                                                        Lula vs Bolsonaro EM COREANO! #shorts https://youtube.com/shorts/QXSaq7UTcMo?feature=share… via  @YouTube   \n",
       "3278                                                                                                                                                                  Lula é um chefe de quadrilha condenado. Ex-presidiário. Nunca foi inocentado.  Fatos são fatos.   \n",
       "\n",
       "     rotulo  \n",
       "3130      1  \n",
       "1605      1  \n",
       "2550      1  \n",
       "1527      1  \n",
       "3278      1  "
      ]
     },
     "execution_count": 34,
     "metadata": {},
     "output_type": "execute_result"
    }
   ],
   "source": [
    "amostra1 = df[df.rotulo==1].sample(n=5)\n",
    "amostra1"
   ]
  },
  {
   "cell_type": "code",
   "execution_count": null,
   "id": "f0cf95ab",
   "metadata": {},
   "outputs": [],
   "source": []
  },
  {
   "cell_type": "code",
   "execution_count": null,
   "id": "c3d362b5",
   "metadata": {},
   "outputs": [],
   "source": []
  },
  {
   "cell_type": "markdown",
   "id": "30e4f7ad",
   "metadata": {},
   "source": [
    "#### Gerando os arquivos de saída"
   ]
  },
  {
   "cell_type": "code",
   "execution_count": null,
   "id": "7ddfe4a2",
   "metadata": {},
   "outputs": [],
   "source": [
    "df.to_csv('../data/postagens_classificadas.csv', index=False)"
   ]
  },
  {
   "cell_type": "code",
   "execution_count": 35,
   "id": "24be1e3e",
   "metadata": {},
   "outputs": [],
   "source": [
    "df2 = pd.DataFrame(data=vetorizacao)\n",
    "df2['rotulo'] = df['rotulo']\n",
    "df2.to_csv('../data/vetorizacao_classificada.csv', index=False)"
   ]
  }
 ],
 "metadata": {
  "kernelspec": {
   "display_name": "Python 3 (ipykernel)",
   "language": "python",
   "name": "python3"
  },
  "language_info": {
   "codemirror_mode": {
    "name": "ipython",
    "version": 3
   },
   "file_extension": ".py",
   "mimetype": "text/x-python",
   "name": "python",
   "nbconvert_exporter": "python",
   "pygments_lexer": "ipython3",
   "version": "3.9.12"
  }
 },
 "nbformat": 4,
 "nbformat_minor": 5
}
