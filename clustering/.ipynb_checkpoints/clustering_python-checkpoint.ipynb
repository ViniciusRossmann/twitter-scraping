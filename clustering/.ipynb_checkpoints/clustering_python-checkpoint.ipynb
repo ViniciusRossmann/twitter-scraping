{
 "cells": [
  {
   "cell_type": "markdown",
   "id": "9780324b",
   "metadata": {},
   "source": [
    "#### Importando bibliotecas"
   ]
  },
  {
   "cell_type": "code",
   "execution_count": 1,
   "id": "01a486c8",
   "metadata": {},
   "outputs": [],
   "source": [
    "import pandas as pd\n",
    "import numpy as np\n",
    "from sklearn.cluster import KMeans"
   ]
  },
  {
   "cell_type": "markdown",
   "id": "08214f48",
   "metadata": {},
   "source": [
    "#### Lendo arquivos de postagens e vetorização"
   ]
  },
  {
   "cell_type": "code",
   "execution_count": 2,
   "id": "a81c1fda",
   "metadata": {},
   "outputs": [],
   "source": [
    "vetorizacao = pd.read_csv('../data/vetorizacao.csv')\n",
    "with open('../data/tweets.csv', encoding=\"utf8\") as file:\n",
    "    tweets = file.readlines()"
   ]
  },
  {
   "cell_type": "markdown",
   "id": "e2c7b756",
   "metadata": {},
   "source": [
    "#### Aplicando o Kmeans"
   ]
  },
  {
   "cell_type": "code",
   "execution_count": 3,
   "id": "0b8c644d",
   "metadata": {},
   "outputs": [],
   "source": [
    "kmeans = KMeans(n_clusters = 3)\n",
    "pred_y = kmeans.fit_predict(vetorizacao)"
   ]
  },
  {
   "cell_type": "code",
   "execution_count": 4,
   "id": "a5bf8b63",
   "metadata": {},
   "outputs": [
    {
     "data": {
      "text/html": [
       "<div>\n",
       "<style scoped>\n",
       "    .dataframe tbody tr th:only-of-type {\n",
       "        vertical-align: middle;\n",
       "    }\n",
       "\n",
       "    .dataframe tbody tr th {\n",
       "        vertical-align: top;\n",
       "    }\n",
       "\n",
       "    .dataframe thead th {\n",
       "        text-align: right;\n",
       "    }\n",
       "</style>\n",
       "<table border=\"1\" class=\"dataframe\">\n",
       "  <thead>\n",
       "    <tr style=\"text-align: right;\">\n",
       "      <th></th>\n",
       "      <th>tweet</th>\n",
       "      <th>rotulo</th>\n",
       "    </tr>\n",
       "  </thead>\n",
       "  <tbody>\n",
       "    <tr>\n",
       "      <th>0</th>\n",
       "      <td>Bolsonaro é louco e eu sou o Lula jump jump jump</td>\n",
       "      <td>2</td>\n",
       "    </tr>\n",
       "    <tr>\n",
       "      <th>1</th>\n",
       "      <td>taehyung performando sentado sendo superior a qualquer um</td>\n",
       "      <td>1</td>\n",
       "    </tr>\n",
       "    <tr>\n",
       "      <th>2</th>\n",
       "      <td>Campanha de Bolsonaro quer evitar fake news nos celulares de assessores https://veja.abril.com.br/coluna/radar/campanha-de-bolsonaro-quer-evitar-fake-news-nos-celulares-de-assessores/…</td>\n",
       "      <td>2</td>\n",
       "    </tr>\n",
       "    <tr>\n",
       "      <th>3</th>\n",
       "      <td>Hipocrisia agente vê por aqui com a SIMONE ESTEPE.Lapada: Michelle Bolsonaro expõe “hipocrisia” de Simone Tebet; VEJA ☛</td>\n",
       "      <td>1</td>\n",
       "    </tr>\n",
       "    <tr>\n",
       "      <th>4</th>\n",
       "      <td>Meu Presidente tava aqui em São Luís e eu não pude ir ver ele. . .  @LulaOficial . . .#LulaNo1ºTurno #LulaPresidente13 #Lula13</td>\n",
       "      <td>2</td>\n",
       "    </tr>\n",
       "  </tbody>\n",
       "</table>\n",
       "</div>"
      ],
      "text/plain": [
       "                                                                                                                                                                                      tweet  \\\n",
       "0                                                                                                                                          Bolsonaro é louco e eu sou o Lula jump jump jump   \n",
       "1                                                                                                                                 taehyung performando sentado sendo superior a qualquer um   \n",
       "2  Campanha de Bolsonaro quer evitar fake news nos celulares de assessores https://veja.abril.com.br/coluna/radar/campanha-de-bolsonaro-quer-evitar-fake-news-nos-celulares-de-assessores/…   \n",
       "3                                                                   Hipocrisia agente vê por aqui com a SIMONE ESTEPE.Lapada: Michelle Bolsonaro expõe “hipocrisia” de Simone Tebet; VEJA ☛   \n",
       "4                                                            Meu Presidente tava aqui em São Luís e eu não pude ir ver ele. . .  @LulaOficial . . .#LulaNo1ºTurno #LulaPresidente13 #Lula13   \n",
       "\n",
       "   rotulo  \n",
       "0       2  \n",
       "1       1  \n",
       "2       2  \n",
       "3       1  \n",
       "4       2  "
      ]
     },
     "execution_count": 4,
     "metadata": {},
     "output_type": "execute_result"
    }
   ],
   "source": [
    "pd.set_option('display.max_colwidth', None)\n",
    "df = pd.DataFrame(data={'tweet': tweets, 'rotulo': pred_y})\n",
    "df[\"tweet\"] = df[\"tweet\"].apply(lambda x: x.replace(\"\\n\", \"\"))\n",
    "df.head()"
   ]
  },
  {
   "cell_type": "markdown",
   "id": "036d2a52",
   "metadata": {},
   "source": [
    "### Classificação manual"
   ]
  },
  {
   "cell_type": "markdown",
   "id": "b9a12a47",
   "metadata": {},
   "source": [
    "#### Selecionando amostras"
   ]
  },
  {
   "cell_type": "code",
   "execution_count": 5,
   "id": "d5e9acbf",
   "metadata": {},
   "outputs": [
    {
     "data": {
      "text/html": [
       "<div>\n",
       "<style scoped>\n",
       "    .dataframe tbody tr th:only-of-type {\n",
       "        vertical-align: middle;\n",
       "    }\n",
       "\n",
       "    .dataframe tbody tr th {\n",
       "        vertical-align: top;\n",
       "    }\n",
       "\n",
       "    .dataframe thead th {\n",
       "        text-align: right;\n",
       "    }\n",
       "</style>\n",
       "<table border=\"1\" class=\"dataframe\">\n",
       "  <thead>\n",
       "    <tr style=\"text-align: right;\">\n",
       "      <th></th>\n",
       "      <th>tweet</th>\n",
       "      <th>rotulo</th>\n",
       "    </tr>\n",
       "  </thead>\n",
       "  <tbody>\n",
       "    <tr>\n",
       "      <th>2758</th>\n",
       "      <td>Inteligência e Lucidez  Trabalho e  Coerência   Competência e Honradez  Não há tema sem projeto. Nem problema sem proposição.  Não há pergunta sem reposta. Não há acordo sem proposta. Não há diálogo sem  reflexão.   Não há futuro pra um país que é ex-nação.  Meu voto:  Ciro Gomes</td>\n",
       "      <td>0</td>\n",
       "    </tr>\n",
       "    <tr>\n",
       "      <th>1166</th>\n",
       "      <td>Ciro Gomes, Simone Tebet e Soraya Thronicke estão no segundo pelotão das pesquisas de intenção de voto, atrás de Lula e Bolsonaro.</td>\n",
       "      <td>0</td>\n",
       "    </tr>\n",
       "    <tr>\n",
       "      <th>2958</th>\n",
       "      <td>Parem de bobagem. Se Ciro conseguir o milagre de duplicar os seus votos... Passando de 9(!) para 18%, quem vai para o segundo turno? Bolsonaro. E se Ciro TRIPLICASSE seus votos? Passado de 9 para 27! Quem iria para o segundo turno? Bolsonaro.  Não sejam linha auxiliar do fascismo</td>\n",
       "      <td>0</td>\n",
       "    </tr>\n",
       "    <tr>\n",
       "      <th>3400</th>\n",
       "      <td>Ciro gomes 12 boraaaaa Brasil  @cirogomes</td>\n",
       "      <td>0</td>\n",
       "    </tr>\n",
       "    <tr>\n",
       "      <th>3624</th>\n",
       "      <td>Campanha presidencial  Pesquisa popular na internet  Lula: 90% Bolsonaro:0.09%  Simone tebet:0.08% Ciro Gomes: 0.08% Eymael: 0.06% Felipe d Ávila: 0.09 Léo Perecles: 0.06 Roberto Jeferson:0.04 Sofia Manzano: 0.06 Soraya Thronicke: 3% Verá: 1%  Lula vai eleito no 1 turno direto</td>\n",
       "      <td>0</td>\n",
       "    </tr>\n",
       "  </tbody>\n",
       "</table>\n",
       "</div>"
      ],
      "text/plain": [
       "                                                                                                                                                                                                                                                                                         tweet  \\\n",
       "2758  Inteligência e Lucidez  Trabalho e  Coerência   Competência e Honradez  Não há tema sem projeto. Nem problema sem proposição.  Não há pergunta sem reposta. Não há acordo sem proposta. Não há diálogo sem  reflexão.   Não há futuro pra um país que é ex-nação.  Meu voto:  Ciro Gomes   \n",
       "1166                                                                                                                                                        Ciro Gomes, Simone Tebet e Soraya Thronicke estão no segundo pelotão das pesquisas de intenção de voto, atrás de Lula e Bolsonaro.   \n",
       "2958  Parem de bobagem. Se Ciro conseguir o milagre de duplicar os seus votos... Passando de 9(!) para 18%, quem vai para o segundo turno? Bolsonaro. E se Ciro TRIPLICASSE seus votos? Passado de 9 para 27! Quem iria para o segundo turno? Bolsonaro.  Não sejam linha auxiliar do fascismo   \n",
       "3400                                                                                                                                                                                                                                                 Ciro gomes 12 boraaaaa Brasil  @cirogomes   \n",
       "3624     Campanha presidencial  Pesquisa popular na internet  Lula: 90% Bolsonaro:0.09%  Simone tebet:0.08% Ciro Gomes: 0.08% Eymael: 0.06% Felipe d Ávila: 0.09 Léo Perecles: 0.06 Roberto Jeferson:0.04 Sofia Manzano: 0.06 Soraya Thronicke: 3% Verá: 1%  Lula vai eleito no 1 turno direto   \n",
       "\n",
       "      rotulo  \n",
       "2758       0  \n",
       "1166       0  \n",
       "2958       0  \n",
       "3400       0  \n",
       "3624       0  "
      ]
     },
     "execution_count": 5,
     "metadata": {},
     "output_type": "execute_result"
    }
   ],
   "source": [
    "amostra0 = df[df.rotulo==0].sample(n=5)\n",
    "amostra0"
   ]
  },
  {
   "cell_type": "markdown",
   "id": "7241ef29",
   "metadata": {},
   "source": [
    "Podemos ver que nem todas as amostras representam o mesmi sentimento, portanto, refaremos a classificação do grupo:"
   ]
  },
  {
   "cell_type": "code",
   "execution_count": 6,
   "id": "aeecdb35",
   "metadata": {},
   "outputs": [],
   "source": [
    "grupo = vetorizacao[vetorizacao.index.isin(df[df.rotulo==0].index)]\n",
    "new_predict = kmeans.fit_predict(grupo)\n",
    "df.loc[df['rotulo'] == 0, 'rotulo'] = new_predict"
   ]
  },
  {
   "cell_type": "code",
   "execution_count": 7,
   "id": "eecc7ca1",
   "metadata": {},
   "outputs": [
    {
     "data": {
      "text/html": [
       "<div>\n",
       "<style scoped>\n",
       "    .dataframe tbody tr th:only-of-type {\n",
       "        vertical-align: middle;\n",
       "    }\n",
       "\n",
       "    .dataframe tbody tr th {\n",
       "        vertical-align: top;\n",
       "    }\n",
       "\n",
       "    .dataframe thead th {\n",
       "        text-align: right;\n",
       "    }\n",
       "</style>\n",
       "<table border=\"1\" class=\"dataframe\">\n",
       "  <thead>\n",
       "    <tr style=\"text-align: right;\">\n",
       "      <th></th>\n",
       "      <th>tweet</th>\n",
       "      <th>rotulo</th>\n",
       "    </tr>\n",
       "  </thead>\n",
       "  <tbody>\n",
       "    <tr>\n",
       "      <th>2477</th>\n",
       "      <td>Vamos com tudo por um Novo Projeto Nacional de Desenvolvimento que nos liberte das amarras de chumbo do passado e projete um futuro de prosperidade! Vamos com Ciro Gomes!  #CiroPresidente12 #EuVoto12 #ElvisGovernador12 #CiroTV</td>\n",
       "      <td>0</td>\n",
       "    </tr>\n",
       "    <tr>\n",
       "      <th>2636</th>\n",
       "      <td>Dito por Sandra Starling, fundadora do PT   CIRO GOMES 12 PDT - Presidente #CIRO12Presidente - #12PDT  EU TAMBÉM FAZIA PARTE,FUI  MEMBRO FUNDADOR DO http://PT.NA ÉPOCA E PENSO O MESMO #CIRO GOMES PRESIDENTE DO BRASIL É FICHA LIMPA E MAIS PREPARADO ENTRE TODOS</td>\n",
       "      <td>0</td>\n",
       "    </tr>\n",
       "    <tr>\n",
       "      <th>2728</th>\n",
       "      <td>Eu sou POVO, eu sou CIDADÃ, e a DEMOCRACIA é que me autoriza à votar no CIRO GOMES. O Lulopetismo não vai me dizer em quem eu devo votar sob o argumento de salvar a democracia.</td>\n",
       "      <td>0</td>\n",
       "    </tr>\n",
       "    <tr>\n",
       "      <th>1149</th>\n",
       "      <td>Votar em projetos e ideias. O Brasil precisa e merece mais do que escolher o \"menos pior\". Por isso eu voto em Ciro Gomes.  #CiroPresidente12  #CiroCresce   PND</td>\n",
       "      <td>0</td>\n",
       "    </tr>\n",
       "    <tr>\n",
       "      <th>1487</th>\n",
       "      <td>Sensacional!!  Que os Jovens do Brasil tenham a mesma força do Taylor Hawkins para banir essa polarização odienta e cansativa!  @cirogomes   CIRO CRESCE #prefirociro</td>\n",
       "      <td>0</td>\n",
       "    </tr>\n",
       "  </tbody>\n",
       "</table>\n",
       "</div>"
      ],
      "text/plain": [
       "                                                                                                                                                                                                                                                                    tweet  \\\n",
       "2477                                   Vamos com tudo por um Novo Projeto Nacional de Desenvolvimento que nos liberte das amarras de chumbo do passado e projete um futuro de prosperidade! Vamos com Ciro Gomes!  #CiroPresidente12 #EuVoto12 #ElvisGovernador12 #CiroTV   \n",
       "2636  Dito por Sandra Starling, fundadora do PT   CIRO GOMES 12 PDT - Presidente #CIRO12Presidente - #12PDT  EU TAMBÉM FAZIA PARTE,FUI  MEMBRO FUNDADOR DO http://PT.NA ÉPOCA E PENSO O MESMO #CIRO GOMES PRESIDENTE DO BRASIL É FICHA LIMPA E MAIS PREPARADO ENTRE TODOS   \n",
       "2728                                                                                     Eu sou POVO, eu sou CIDADÃ, e a DEMOCRACIA é que me autoriza à votar no CIRO GOMES. O Lulopetismo não vai me dizer em quem eu devo votar sob o argumento de salvar a democracia.   \n",
       "1149                                                                                                     Votar em projetos e ideias. O Brasil precisa e merece mais do que escolher o \"menos pior\". Por isso eu voto em Ciro Gomes.  #CiroPresidente12  #CiroCresce   PND   \n",
       "1487                                                                                                Sensacional!!  Que os Jovens do Brasil tenham a mesma força do Taylor Hawkins para banir essa polarização odienta e cansativa!  @cirogomes   CIRO CRESCE #prefirociro   \n",
       "\n",
       "      rotulo  \n",
       "2477       0  \n",
       "2636       0  \n",
       "2728       0  \n",
       "1149       0  \n",
       "1487       0  "
      ]
     },
     "execution_count": 7,
     "metadata": {},
     "output_type": "execute_result"
    }
   ],
   "source": [
    "amostra0 = df[df.rotulo==0].sample(n=5)\n",
    "amostra0"
   ]
  },
  {
   "cell_type": "code",
   "execution_count": 10,
   "id": "935adb1b",
   "metadata": {},
   "outputs": [
    {
     "data": {
      "text/html": [
       "<div>\n",
       "<style scoped>\n",
       "    .dataframe tbody tr th:only-of-type {\n",
       "        vertical-align: middle;\n",
       "    }\n",
       "\n",
       "    .dataframe tbody tr th {\n",
       "        vertical-align: top;\n",
       "    }\n",
       "\n",
       "    .dataframe thead th {\n",
       "        text-align: right;\n",
       "    }\n",
       "</style>\n",
       "<table border=\"1\" class=\"dataframe\">\n",
       "  <thead>\n",
       "    <tr style=\"text-align: right;\">\n",
       "      <th></th>\n",
       "      <th>tweet</th>\n",
       "      <th>rotulo</th>\n",
       "    </tr>\n",
       "  </thead>\n",
       "  <tbody>\n",
       "    <tr>\n",
       "      <th>1031</th>\n",
       "      <td>O sempre sorridente e carismático ⁦ @cirogomes ⁩</td>\n",
       "      <td>1</td>\n",
       "    </tr>\n",
       "    <tr>\n",
       "      <th>241</th>\n",
       "      <td>É por isso que eu digo que o feminismo não serve pra porcaria nenhuma! A candidata feminista  @simonetebetbr  deu entrada em um processo pra que o vídeo da primeira-dama fosse tirado do ar. Agora a questão é: qual o problema? Não é uma mulher ocupando lugar de destaque?</td>\n",
       "      <td>1</td>\n",
       "    </tr>\n",
       "    <tr>\n",
       "      <th>2956</th>\n",
       "      <td>Pra cima deles, Ciro! Vamos para o segundo turno  #CiroCresce #CiroTV #CiroPresidente twitter.com/cirogomes/stat…</td>\n",
       "      <td>1</td>\n",
       "    </tr>\n",
       "    <tr>\n",
       "      <th>4305</th>\n",
       "      <td>Jornalismo tão sério quanto o bufão de Pindamonhangaba... Mas, às vezes dá uma dentro!  twitter.com/SergioAJBarret…</td>\n",
       "      <td>1</td>\n",
       "    </tr>\n",
       "    <tr>\n",
       "      <th>2591</th>\n",
       "      <td>Diz para votar em mulher, mas entra na Justiça para calar outra mulher?  O Antagonista está postado o título da noticia para enganar o povo parecendo que foi Michelle Bolsonaro que disse, e foi ao contrário quem disse foi a candidata a presidente Simone Tebt.</td>\n",
       "      <td>1</td>\n",
       "    </tr>\n",
       "  </tbody>\n",
       "</table>\n",
       "</div>"
      ],
      "text/plain": [
       "                                                                                                                                                                                                                                                                                tweet  \\\n",
       "1031                                                                                                                                                                                                                                 O sempre sorridente e carismático ⁦ @cirogomes ⁩   \n",
       "241   É por isso que eu digo que o feminismo não serve pra porcaria nenhuma! A candidata feminista  @simonetebetbr  deu entrada em um processo pra que o vídeo da primeira-dama fosse tirado do ar. Agora a questão é: qual o problema? Não é uma mulher ocupando lugar de destaque?    \n",
       "2956                                                                                                                                                                Pra cima deles, Ciro! Vamos para o segundo turno  #CiroCresce #CiroTV #CiroPresidente twitter.com/cirogomes/stat…   \n",
       "4305                                                                                                                                                              Jornalismo tão sério quanto o bufão de Pindamonhangaba... Mas, às vezes dá uma dentro!  twitter.com/SergioAJBarret…   \n",
       "2591              Diz para votar em mulher, mas entra na Justiça para calar outra mulher?  O Antagonista está postado o título da noticia para enganar o povo parecendo que foi Michelle Bolsonaro que disse, e foi ao contrário quem disse foi a candidata a presidente Simone Tebt.   \n",
       "\n",
       "      rotulo  \n",
       "1031       1  \n",
       "241        1  \n",
       "2956       1  \n",
       "4305       1  \n",
       "2591       1  "
      ]
     },
     "execution_count": 10,
     "metadata": {},
     "output_type": "execute_result"
    }
   ],
   "source": [
    "amostra1 = df[df.rotulo==1].sample(n=5)\n",
    "amostra1"
   ]
  },
  {
   "cell_type": "code",
   "execution_count": 11,
   "id": "c3e41ff7",
   "metadata": {},
   "outputs": [],
   "source": [
    "grupo = vetorizacao[vetorizacao.index.isin(df[df.rotulo==1].index)]\n",
    "new_predict = kmeans.fit_predict(grupo)\n",
    "df.loc[df['rotulo'] == 1, 'rotulo'] = new_predict"
   ]
  },
  {
   "cell_type": "code",
   "execution_count": 12,
   "id": "4345e38f",
   "metadata": {},
   "outputs": [
    {
     "data": {
      "text/html": [
       "<div>\n",
       "<style scoped>\n",
       "    .dataframe tbody tr th:only-of-type {\n",
       "        vertical-align: middle;\n",
       "    }\n",
       "\n",
       "    .dataframe tbody tr th {\n",
       "        vertical-align: top;\n",
       "    }\n",
       "\n",
       "    .dataframe thead th {\n",
       "        text-align: right;\n",
       "    }\n",
       "</style>\n",
       "<table border=\"1\" class=\"dataframe\">\n",
       "  <thead>\n",
       "    <tr style=\"text-align: right;\">\n",
       "      <th></th>\n",
       "      <th>tweet</th>\n",
       "      <th>rotulo</th>\n",
       "    </tr>\n",
       "  </thead>\n",
       "  <tbody>\n",
       "    <tr>\n",
       "      <th>3753</th>\n",
       "      <td>depois de 8 longos meses pedi minha ficante em namoro e ela disse sim.  reparem nos detalhes pq eu sou muito libriana gayzona e ela taurina(ganhei pela barriga),  ps: resolvi pedir no dia 02 pela manhã e ajeitei tudo no dia 02 à tarde pra fazer a surpresa à noite.</td>\n",
       "      <td>1</td>\n",
       "    </tr>\n",
       "    <tr>\n",
       "      <th>538</th>\n",
       "      <td>“A senhora diz que não viu o País que eu falei acontecer. O seu motorista viu, o seu jardineiro viu, a sua empregada doméstica viu. A sua empregada doméstica viu este País melhorar, viu que ela podia almoçar e jantar todo dia, viu que o filho dela poderia entrar na universidade”</td>\n",
       "      <td>1</td>\n",
       "    </tr>\n",
       "    <tr>\n",
       "      <th>1633</th>\n",
       "      <td>Quero voltar para o segundo ano do ensino médio</td>\n",
       "      <td>1</td>\n",
       "    </tr>\n",
       "    <tr>\n",
       "      <th>4303</th>\n",
       "      <td>Veja nosso quarto programa eleitoral completo, que foi exibido há pouco na http://cirotv.com.br. Você vai ficar sabendo tudo sobre a Lei Antiganância e a renegociação das dívidas que vai limpar o nome de todo mundo que está no SPC e no Serasa. #CiroPresidente12</td>\n",
       "      <td>1</td>\n",
       "    </tr>\n",
       "    <tr>\n",
       "      <th>894</th>\n",
       "      <td>Eu gostaria de saber, como conseguiram financiar obras no exterior, sem o mínimo de questionamento por parte do STF, TCU, congresso etc. O Ministro Tarcísio enfrentou questionamento de Alexandre de Moraes para a Ferrograo  @STF_oficial  @aelxandre  @jairbolsonaro</td>\n",
       "      <td>1</td>\n",
       "    </tr>\n",
       "  </tbody>\n",
       "</table>\n",
       "</div>"
      ],
      "text/plain": [
       "                                                                                                                                                                                                                                                                                        tweet  \\\n",
       "3753                 depois de 8 longos meses pedi minha ficante em namoro e ela disse sim.  reparem nos detalhes pq eu sou muito libriana gayzona e ela taurina(ganhei pela barriga),  ps: resolvi pedir no dia 02 pela manhã e ajeitei tudo no dia 02 à tarde pra fazer a surpresa à noite.   \n",
       "538   “A senhora diz que não viu o País que eu falei acontecer. O seu motorista viu, o seu jardineiro viu, a sua empregada doméstica viu. A sua empregada doméstica viu este País melhorar, viu que ela podia almoçar e jantar todo dia, viu que o filho dela poderia entrar na universidade”   \n",
       "1633                                                                                                                                                                                                                                         Quero voltar para o segundo ano do ensino médio    \n",
       "4303                    Veja nosso quarto programa eleitoral completo, que foi exibido há pouco na http://cirotv.com.br. Você vai ficar sabendo tudo sobre a Lei Antiganância e a renegociação das dívidas que vai limpar o nome de todo mundo que está no SPC e no Serasa. #CiroPresidente12   \n",
       "894                   Eu gostaria de saber, como conseguiram financiar obras no exterior, sem o mínimo de questionamento por parte do STF, TCU, congresso etc. O Ministro Tarcísio enfrentou questionamento de Alexandre de Moraes para a Ferrograo  @STF_oficial  @aelxandre  @jairbolsonaro   \n",
       "\n",
       "      rotulo  \n",
       "3753       1  \n",
       "538        1  \n",
       "1633       1  \n",
       "4303       1  \n",
       "894        1  "
      ]
     },
     "execution_count": 12,
     "metadata": {},
     "output_type": "execute_result"
    }
   ],
   "source": [
    "amostra1 = df[df.rotulo==1].sample(n=5)\n",
    "amostra1"
   ]
  },
  {
   "cell_type": "code",
   "execution_count": 13,
   "id": "8ee43f73",
   "metadata": {},
   "outputs": [
    {
     "data": {
      "text/html": [
       "<div>\n",
       "<style scoped>\n",
       "    .dataframe tbody tr th:only-of-type {\n",
       "        vertical-align: middle;\n",
       "    }\n",
       "\n",
       "    .dataframe tbody tr th {\n",
       "        vertical-align: top;\n",
       "    }\n",
       "\n",
       "    .dataframe thead th {\n",
       "        text-align: right;\n",
       "    }\n",
       "</style>\n",
       "<table border=\"1\" class=\"dataframe\">\n",
       "  <thead>\n",
       "    <tr style=\"text-align: right;\">\n",
       "      <th></th>\n",
       "      <th>tweet</th>\n",
       "      <th>rotulo</th>\n",
       "    </tr>\n",
       "  </thead>\n",
       "  <tbody>\n",
       "    <tr>\n",
       "      <th>575</th>\n",
       "      <td>Petistas surtados, porque o painho deles não será eleito no 1°T, pedindo para Simone/Ciro desistirem das suas candidaturas, em prol do molusco. Eu proponho o inverso...que o lola, como \"democrata\" que é, abra mão da sua candidatura em prol do Brasil sem o bozo!</td>\n",
       "      <td>2</td>\n",
       "    </tr>\n",
       "    <tr>\n",
       "      <th>1625</th>\n",
       "      <td>kanye west esta tentando se naturalizar no brasil pra votar em ciro gomes</td>\n",
       "      <td>2</td>\n",
       "    </tr>\n",
       "    <tr>\n",
       "      <th>2390</th>\n",
       "      <td>E foi aqui que o Lula perdeu</td>\n",
       "      <td>2</td>\n",
       "    </tr>\n",
       "    <tr>\n",
       "      <th>310</th>\n",
       "      <td>Já que vai ter segundo turno de qualquer jeito, vamos pelo menos tentar tirar o Bolsonaro dele....  Que tal Lula e Ciro no segundo turno?</td>\n",
       "      <td>2</td>\n",
       "    </tr>\n",
       "    <tr>\n",
       "      <th>563</th>\n",
       "      <td>Hildegard Angel: 'Simone Tebet é uma pedalada jornalística da Globo'</td>\n",
       "      <td>2</td>\n",
       "    </tr>\n",
       "  </tbody>\n",
       "</table>\n",
       "</div>"
      ],
      "text/plain": [
       "                                                                                                                                                                                                                                                                      tweet  \\\n",
       "575   Petistas surtados, porque o painho deles não será eleito no 1°T, pedindo para Simone/Ciro desistirem das suas candidaturas, em prol do molusco. Eu proponho o inverso...que o lola, como \"democrata\" que é, abra mão da sua candidatura em prol do Brasil sem o bozo!   \n",
       "1625                                                                                                                                                                                              kanye west esta tentando se naturalizar no brasil pra votar em ciro gomes   \n",
       "2390                                                                                                                                                                                                                                          E foi aqui que o Lula perdeu    \n",
       "310                                                                                                                               Já que vai ter segundo turno de qualquer jeito, vamos pelo menos tentar tirar o Bolsonaro dele....  Que tal Lula e Ciro no segundo turno?   \n",
       "563                                                                                                                                                                                                    Hildegard Angel: 'Simone Tebet é uma pedalada jornalística da Globo'   \n",
       "\n",
       "      rotulo  \n",
       "575        2  \n",
       "1625       2  \n",
       "2390       2  \n",
       "310        2  \n",
       "563        2  "
      ]
     },
     "execution_count": 13,
     "metadata": {},
     "output_type": "execute_result"
    }
   ],
   "source": [
    "amostra2 = df[df.rotulo==2].sample(n=5)\n",
    "amostra2"
   ]
  },
  {
   "cell_type": "code",
   "execution_count": 14,
   "id": "5ed34fc4",
   "metadata": {},
   "outputs": [],
   "source": [
    "grupo = vetorizacao[vetorizacao.index.isin(df[df.rotulo==2].index)]\n",
    "new_predict = kmeans.fit_predict(grupo)\n",
    "df.loc[df['rotulo'] == 2, 'rotulo'] = new_predict"
   ]
  },
  {
   "cell_type": "code",
   "execution_count": 15,
   "id": "d070e6d2",
   "metadata": {},
   "outputs": [
    {
     "data": {
      "text/html": [
       "<div>\n",
       "<style scoped>\n",
       "    .dataframe tbody tr th:only-of-type {\n",
       "        vertical-align: middle;\n",
       "    }\n",
       "\n",
       "    .dataframe tbody tr th {\n",
       "        vertical-align: top;\n",
       "    }\n",
       "\n",
       "    .dataframe thead th {\n",
       "        text-align: right;\n",
       "    }\n",
       "</style>\n",
       "<table border=\"1\" class=\"dataframe\">\n",
       "  <thead>\n",
       "    <tr style=\"text-align: right;\">\n",
       "      <th></th>\n",
       "      <th>tweet</th>\n",
       "      <th>rotulo</th>\n",
       "    </tr>\n",
       "  </thead>\n",
       "  <tbody>\n",
       "    <tr>\n",
       "      <th>1275</th>\n",
       "      <td>*Mais um video da Michelle Bolsonaro deixando Simone Tebet e a Janja desesperadas* #Brasil</td>\n",
       "      <td>2</td>\n",
       "    </tr>\n",
       "    <tr>\n",
       "      <th>662</th>\n",
       "      <td>Assista a \"Michelle Bolsonaro retruca e dá lição de moral para Simone Tebet sobre liberdade de expressão:...\" no YouTube</td>\n",
       "      <td>2</td>\n",
       "    </tr>\n",
       "    <tr>\n",
       "      <th>4167</th>\n",
       "      <td>A pedido da Simone Tebet O TSE retirou o vídeo</td>\n",
       "      <td>2</td>\n",
       "    </tr>\n",
       "    <tr>\n",
       "      <th>293</th>\n",
       "      <td>Este vídeo/propaganda eleitoral foi proibida, masssss somos #brasileiros e jamais desistimos #Deus #Família #Pátria #Liberdade  @carlacecato  (Instagram) Essa propaganda foi proibida a pedido de Simone Tebet.Não tem problema,divulgamos aqui. Compartilhe com amigos. #bolsonaro22</td>\n",
       "      <td>2</td>\n",
       "    </tr>\n",
       "    <tr>\n",
       "      <th>2161</th>\n",
       "      <td>naro cortou verbas e acabou com a Casa da Mulher Brasileira, PROGRAMA DE DILMA q ele diz ter criado. Até Simone Tebet quer se apropriar da iniciativa “naro cortou as verbas e acabou c/ o programa”, relata a ex-ministra Eleonora Menicucci #LulaNo1ºTurno</td>\n",
       "      <td>2</td>\n",
       "    </tr>\n",
       "  </tbody>\n",
       "</table>\n",
       "</div>"
      ],
      "text/plain": [
       "                                                                                                                                                                                                                                                                                       tweet  \\\n",
       "1275                                                                                                                                                                                              *Mais um video da Michelle Bolsonaro deixando Simone Tebet e a Janja desesperadas* #Brasil   \n",
       "662                                                                                                                                                                 Assista a \"Michelle Bolsonaro retruca e dá lição de moral para Simone Tebet sobre liberdade de expressão:...\" no YouTube   \n",
       "4167                                                                                                                                                                                                                                         A pedido da Simone Tebet O TSE retirou o vídeo    \n",
       "293   Este vídeo/propaganda eleitoral foi proibida, masssss somos #brasileiros e jamais desistimos #Deus #Família #Pátria #Liberdade  @carlacecato  (Instagram) Essa propaganda foi proibida a pedido de Simone Tebet.Não tem problema,divulgamos aqui. Compartilhe com amigos. #bolsonaro22   \n",
       "2161                            naro cortou verbas e acabou com a Casa da Mulher Brasileira, PROGRAMA DE DILMA q ele diz ter criado. Até Simone Tebet quer se apropriar da iniciativa “naro cortou as verbas e acabou c/ o programa”, relata a ex-ministra Eleonora Menicucci #LulaNo1ºTurno   \n",
       "\n",
       "      rotulo  \n",
       "1275       2  \n",
       "662        2  \n",
       "4167       2  \n",
       "293        2  \n",
       "2161       2  "
      ]
     },
     "execution_count": 15,
     "metadata": {},
     "output_type": "execute_result"
    }
   ],
   "source": [
    "amostra2 = df[df.rotulo==2].sample(n=5)\n",
    "amostra2"
   ]
  },
  {
   "cell_type": "markdown",
   "id": "01dacd25",
   "metadata": {},
   "source": [
    "#### Gerando os arquivos de saída"
   ]
  },
  {
   "cell_type": "code",
   "execution_count": 8,
   "id": "9f205975",
   "metadata": {},
   "outputs": [],
   "source": [
    "df.to_csv('../data/postagens_classificadas.csv', index=False)"
   ]
  },
  {
   "cell_type": "code",
   "execution_count": 9,
   "id": "328b979b",
   "metadata": {},
   "outputs": [],
   "source": [
    "df2 = pd.DataFrame(data=vetorizacao)\n",
    "df2['rotulo'] = df['rotulo']\n",
    "df2.to_csv('../data/vetorizacao_classificada.csv', index=False)"
   ]
  },
  {
   "cell_type": "code",
   "execution_count": null,
   "id": "e4f97682",
   "metadata": {},
   "outputs": [],
   "source": []
  }
 ],
 "metadata": {
  "kernelspec": {
   "display_name": "Python 3 (ipykernel)",
   "language": "python",
   "name": "python3"
  },
  "language_info": {
   "codemirror_mode": {
    "name": "ipython",
    "version": 3
   },
   "file_extension": ".py",
   "mimetype": "text/x-python",
   "name": "python",
   "nbconvert_exporter": "python",
   "pygments_lexer": "ipython3",
   "version": "3.9.12"
  }
 },
 "nbformat": 4,
 "nbformat_minor": 5
}
