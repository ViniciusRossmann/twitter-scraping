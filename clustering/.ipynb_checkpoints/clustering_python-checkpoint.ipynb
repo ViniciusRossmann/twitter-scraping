{
 "cells": [
  {
   "cell_type": "markdown",
   "id": "9780324b",
   "metadata": {},
   "source": [
    "#### Importando bibliotecas"
   ]
  },
  {
   "cell_type": "code",
   "execution_count": 1,
   "id": "01a486c8",
   "metadata": {},
   "outputs": [],
   "source": [
    "import pandas as pd\n",
    "import numpy as np\n",
    "from sklearn.cluster import KMeans"
   ]
  },
  {
   "cell_type": "markdown",
   "id": "08214f48",
   "metadata": {},
   "source": [
    "#### Lendo arquivos de postagens e vetorização"
   ]
  },
  {
   "cell_type": "code",
   "execution_count": 2,
   "id": "a81c1fda",
   "metadata": {},
   "outputs": [],
   "source": [
    "vetorizacao = pd.read_csv('../data/vetorizacao.csv')\n",
    "with open('../data/tweets.csv', encoding=\"utf8\") as file:\n",
    "    tweets = file.readlines()"
   ]
  },
  {
   "cell_type": "markdown",
   "id": "e2c7b756",
   "metadata": {},
   "source": [
    "#### Aplicando o Kmeans"
   ]
  },
  {
   "cell_type": "code",
   "execution_count": 3,
   "id": "0b8c644d",
   "metadata": {},
   "outputs": [],
   "source": [
    "kmeans = KMeans(n_clusters = 3)\n",
    "pred_y = kmeans.fit_predict(vetorizacao)"
   ]
  },
  {
   "cell_type": "code",
   "execution_count": 4,
   "id": "a5bf8b63",
   "metadata": {},
   "outputs": [
    {
     "data": {
      "text/html": [
       "<div>\n",
       "<style scoped>\n",
       "    .dataframe tbody tr th:only-of-type {\n",
       "        vertical-align: middle;\n",
       "    }\n",
       "\n",
       "    .dataframe tbody tr th {\n",
       "        vertical-align: top;\n",
       "    }\n",
       "\n",
       "    .dataframe thead th {\n",
       "        text-align: right;\n",
       "    }\n",
       "</style>\n",
       "<table border=\"1\" class=\"dataframe\">\n",
       "  <thead>\n",
       "    <tr style=\"text-align: right;\">\n",
       "      <th></th>\n",
       "      <th>tweet</th>\n",
       "      <th>rotulo</th>\n",
       "    </tr>\n",
       "  </thead>\n",
       "  <tbody>\n",
       "    <tr>\n",
       "      <th>0</th>\n",
       "      <td>Bolsonaro é louco e eu sou o Lula jump jump jump</td>\n",
       "      <td>1</td>\n",
       "    </tr>\n",
       "    <tr>\n",
       "      <th>1</th>\n",
       "      <td>taehyung performando sentado sendo superior a qualquer um</td>\n",
       "      <td>0</td>\n",
       "    </tr>\n",
       "    <tr>\n",
       "      <th>2</th>\n",
       "      <td>Campanha de Bolsonaro quer evitar fake news nos celulares de assessores https://veja.abril.com.br/coluna/radar/campanha-de-bolsonaro-quer-evitar-fake-news-nos-celulares-de-assessores/…</td>\n",
       "      <td>0</td>\n",
       "    </tr>\n",
       "    <tr>\n",
       "      <th>3</th>\n",
       "      <td>Hipocrisia agente vê por aqui com a SIMONE ESTEPE.Lapada: Michelle Bolsonaro expõe “hipocrisia” de Simone Tebet; VEJA ☛</td>\n",
       "      <td>0</td>\n",
       "    </tr>\n",
       "    <tr>\n",
       "      <th>4</th>\n",
       "      <td>Meu Presidente tava aqui em São Luís e eu não pude ir ver ele. . .  @LulaOficial . . .#LulaNo1ºTurno #LulaPresidente13 #Lula13</td>\n",
       "      <td>1</td>\n",
       "    </tr>\n",
       "  </tbody>\n",
       "</table>\n",
       "</div>"
      ],
      "text/plain": [
       "                                                                                                                                                                                      tweet  \\\n",
       "0                                                                                                                                          Bolsonaro é louco e eu sou o Lula jump jump jump   \n",
       "1                                                                                                                                 taehyung performando sentado sendo superior a qualquer um   \n",
       "2  Campanha de Bolsonaro quer evitar fake news nos celulares de assessores https://veja.abril.com.br/coluna/radar/campanha-de-bolsonaro-quer-evitar-fake-news-nos-celulares-de-assessores/…   \n",
       "3                                                                   Hipocrisia agente vê por aqui com a SIMONE ESTEPE.Lapada: Michelle Bolsonaro expõe “hipocrisia” de Simone Tebet; VEJA ☛   \n",
       "4                                                            Meu Presidente tava aqui em São Luís e eu não pude ir ver ele. . .  @LulaOficial . . .#LulaNo1ºTurno #LulaPresidente13 #Lula13   \n",
       "\n",
       "   rotulo  \n",
       "0       1  \n",
       "1       0  \n",
       "2       0  \n",
       "3       0  \n",
       "4       1  "
      ]
     },
     "execution_count": 4,
     "metadata": {},
     "output_type": "execute_result"
    }
   ],
   "source": [
    "pd.set_option('display.max_colwidth', None)\n",
    "df = pd.DataFrame(data={'tweet': tweets, 'rotulo': pred_y})\n",
    "df[\"tweet\"] = df[\"tweet\"].apply(lambda x: x.replace(\"\\n\", \"\"))\n",
    "df.head()"
   ]
  },
  {
   "cell_type": "markdown",
   "id": "036d2a52",
   "metadata": {},
   "source": [
    "### Classificação manual"
   ]
  },
  {
   "cell_type": "markdown",
   "id": "b9a12a47",
   "metadata": {},
   "source": [
    "#### Selecionando amostras"
   ]
  },
  {
   "cell_type": "code",
   "execution_count": 9,
   "id": "d5e9acbf",
   "metadata": {},
   "outputs": [
    {
     "data": {
      "text/html": [
       "<div>\n",
       "<style scoped>\n",
       "    .dataframe tbody tr th:only-of-type {\n",
       "        vertical-align: middle;\n",
       "    }\n",
       "\n",
       "    .dataframe tbody tr th {\n",
       "        vertical-align: top;\n",
       "    }\n",
       "\n",
       "    .dataframe thead th {\n",
       "        text-align: right;\n",
       "    }\n",
       "</style>\n",
       "<table border=\"1\" class=\"dataframe\">\n",
       "  <thead>\n",
       "    <tr style=\"text-align: right;\">\n",
       "      <th></th>\n",
       "      <th>tweet</th>\n",
       "      <th>rotulo</th>\n",
       "    </tr>\n",
       "  </thead>\n",
       "  <tbody>\n",
       "    <tr>\n",
       "      <th>2142</th>\n",
       "      <td>Lula nem ganhou e já trouxe alegria pro povo em Pernambuco. Hoje tem ensaio aberto do @blocoachoepouco em Olinda em apoio ao melhor presidente que o país já teve. @LulaOficial tá voltando.</td>\n",
       "      <td>0</td>\n",
       "    </tr>\n",
       "    <tr>\n",
       "      <th>1843</th>\n",
       "      <td>Já que o TSE fez essa palhaçada de proibir o vídeo da Primeira Dama a pedido da \"defensora\" das mulheres a Simone Tebet, nós vamos obedecer o máximo possível. Não vamos apertar o compartilhar e o Retweeitar e mostrar pra essa cambada quem manda nessa p...</td>\n",
       "      <td>0</td>\n",
       "    </tr>\n",
       "    <tr>\n",
       "      <th>1135</th>\n",
       "      <td>#CiroGomes imaginar explicar isso numa favela?</td>\n",
       "      <td>0</td>\n",
       "    </tr>\n",
       "    <tr>\n",
       "      <th>857</th>\n",
       "      <td>Que feio  @cirogomes</td>\n",
       "      <td>0</td>\n",
       "    </tr>\n",
       "    <tr>\n",
       "      <th>3417</th>\n",
       "      <td>As mulheres são maioria e merecem um governo que as trate com respeito. Mensagem da @JanjaLula no programa de TV exibido ontem. Vamos, juntas e juntos, melhorar a vida no Brasil. Bom domingo pra nós.</td>\n",
       "      <td>0</td>\n",
       "    </tr>\n",
       "  </tbody>\n",
       "</table>\n",
       "</div>"
      ],
      "text/plain": [
       "                                                                                                                                                                                                                                                                tweet  \\\n",
       "2142                                                                    Lula nem ganhou e já trouxe alegria pro povo em Pernambuco. Hoje tem ensaio aberto do @blocoachoepouco em Olinda em apoio ao melhor presidente que o país já teve. @LulaOficial tá voltando.    \n",
       "1843  Já que o TSE fez essa palhaçada de proibir o vídeo da Primeira Dama a pedido da \"defensora\" das mulheres a Simone Tebet, nós vamos obedecer o máximo possível. Não vamos apertar o compartilhar e o Retweeitar e mostrar pra essa cambada quem manda nessa p...   \n",
       "1135                                                                                                                                                                                                                   #CiroGomes imaginar explicar isso numa favela?   \n",
       "857                                                                                                                                                                                                                                              Que feio  @cirogomes   \n",
       "3417                                                          As mulheres são maioria e merecem um governo que as trate com respeito. Mensagem da @JanjaLula no programa de TV exibido ontem. Vamos, juntas e juntos, melhorar a vida no Brasil. Bom domingo pra nós.   \n",
       "\n",
       "      rotulo  \n",
       "2142       0  \n",
       "1843       0  \n",
       "1135       0  \n",
       "857        0  \n",
       "3417       0  "
      ]
     },
     "execution_count": 9,
     "metadata": {},
     "output_type": "execute_result"
    }
   ],
   "source": [
    "amostra0 = df[df.rotulo==0].sample(n=5)\n",
    "amostra0"
   ]
  },
  {
   "cell_type": "code",
   "execution_count": null,
   "id": "b1304090",
   "metadata": {},
   "outputs": [],
   "source": []
  },
  {
   "cell_type": "code",
   "execution_count": 6,
   "id": "054585ad",
   "metadata": {},
   "outputs": [],
   "source": []
  },
  {
   "cell_type": "markdown",
   "id": "cd7ea00d",
   "metadata": {},
   "source": [
    "#### Gerando os arquivos de saída"
   ]
  },
  {
   "cell_type": "code",
   "execution_count": 13,
   "id": "3565e92c",
   "metadata": {},
   "outputs": [],
   "source": [
    "df.to_csv('../data/postagens_classificadas.csv', index=False)"
   ]
  },
  {
   "cell_type": "code",
   "execution_count": null,
   "id": "c1cb0369",
   "metadata": {},
   "outputs": [],
   "source": [
    "df2 = vetorizacao\n",
    "df2['rotulo'] = df['rotulo']\n",
    "df2.to_csv('../data/vetorizacao_classificada.csv', index=False)"
   ]
  }
 ],
 "metadata": {
  "kernelspec": {
   "display_name": "Python 3 (ipykernel)",
   "language": "python",
   "name": "python3"
  },
  "language_info": {
   "codemirror_mode": {
    "name": "ipython",
    "version": 3
   },
   "file_extension": ".py",
   "mimetype": "text/x-python",
   "name": "python",
   "nbconvert_exporter": "python",
   "pygments_lexer": "ipython3",
   "version": "3.9.12"
  }
 },
 "nbformat": 4,
 "nbformat_minor": 5
}
