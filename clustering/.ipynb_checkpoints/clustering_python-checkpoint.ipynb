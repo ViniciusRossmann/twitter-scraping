{
 "cells": [
  {
   "cell_type": "markdown",
   "id": "9780324b",
   "metadata": {},
   "source": [
    "#### Importando bibliotecas"
   ]
  },
  {
   "cell_type": "code",
   "execution_count": 12,
   "id": "01a486c8",
   "metadata": {},
   "outputs": [],
   "source": [
    "import pandas as pd\n",
    "import numpy as np\n",
    "from sklearn.cluster import KMeans"
   ]
  },
  {
   "cell_type": "markdown",
   "id": "08214f48",
   "metadata": {},
   "source": [
    "#### Lendo arquivos de postagens e vetorização"
   ]
  },
  {
   "cell_type": "code",
   "execution_count": 2,
   "id": "a81c1fda",
   "metadata": {},
   "outputs": [],
   "source": [
    "vetorizacao = pd.read_csv('../data/vetorizacao.csv')\n",
    "with open('../data/tweets.csv', encoding=\"utf8\") as file:\n",
    "    tweets = file.readlines()"
   ]
  },
  {
   "cell_type": "markdown",
   "id": "e2c7b756",
   "metadata": {},
   "source": [
    "#### Aplicando o Kmeans"
   ]
  },
  {
   "cell_type": "code",
   "execution_count": 6,
   "id": "0b8c644d",
   "metadata": {},
   "outputs": [],
   "source": [
    "kmeans = KMeans(n_clusters = 3)\n",
    "pred_y = kmeans.fit_predict(vetorizacao)"
   ]
  },
  {
   "cell_type": "code",
   "execution_count": 28,
   "id": "a5bf8b63",
   "metadata": {},
   "outputs": [
    {
     "data": {
      "text/html": [
       "<div>\n",
       "<style scoped>\n",
       "    .dataframe tbody tr th:only-of-type {\n",
       "        vertical-align: middle;\n",
       "    }\n",
       "\n",
       "    .dataframe tbody tr th {\n",
       "        vertical-align: top;\n",
       "    }\n",
       "\n",
       "    .dataframe thead th {\n",
       "        text-align: right;\n",
       "    }\n",
       "</style>\n",
       "<table border=\"1\" class=\"dataframe\">\n",
       "  <thead>\n",
       "    <tr style=\"text-align: right;\">\n",
       "      <th></th>\n",
       "      <th>tweet</th>\n",
       "      <th>rotulo</th>\n",
       "    </tr>\n",
       "  </thead>\n",
       "  <tbody>\n",
       "    <tr>\n",
       "      <th>0</th>\n",
       "      <td>Bolsonaro é louco e eu sou o Lula jump jump ju...</td>\n",
       "      <td>2</td>\n",
       "    </tr>\n",
       "    <tr>\n",
       "      <th>1</th>\n",
       "      <td>taehyung performando sentado sendo superior a ...</td>\n",
       "      <td>1</td>\n",
       "    </tr>\n",
       "    <tr>\n",
       "      <th>2</th>\n",
       "      <td>Campanha de Bolsonaro quer evitar fake news no...</td>\n",
       "      <td>1</td>\n",
       "    </tr>\n",
       "    <tr>\n",
       "      <th>3</th>\n",
       "      <td>Hipocrisia agente vê por aqui com a SIMONE EST...</td>\n",
       "      <td>1</td>\n",
       "    </tr>\n",
       "    <tr>\n",
       "      <th>4</th>\n",
       "      <td>Meu Presidente tava aqui em São Luís e eu não ...</td>\n",
       "      <td>2</td>\n",
       "    </tr>\n",
       "  </tbody>\n",
       "</table>\n",
       "</div>"
      ],
      "text/plain": [
       "                                               tweet  rotulo\n",
       "0  Bolsonaro é louco e eu sou o Lula jump jump ju...       2\n",
       "1  taehyung performando sentado sendo superior a ...       1\n",
       "2  Campanha de Bolsonaro quer evitar fake news no...       1\n",
       "3  Hipocrisia agente vê por aqui com a SIMONE EST...       1\n",
       "4  Meu Presidente tava aqui em São Luís e eu não ...       2"
      ]
     },
     "execution_count": 28,
     "metadata": {},
     "output_type": "execute_result"
    }
   ],
   "source": [
    "df = pd.DataFrame(data={'tweet': tweets, 'rotulo': pred_y})\n",
    "df.head()"
   ]
  },
  {
   "cell_type": "markdown",
   "id": "036d2a52",
   "metadata": {},
   "source": [
    "### Classificação manual"
   ]
  },
  {
   "cell_type": "markdown",
   "id": "b9a12a47",
   "metadata": {},
   "source": [
    "#### Selecionando amostras"
   ]
  },
  {
   "cell_type": "code",
   "execution_count": 33,
   "id": "d5e9acbf",
   "metadata": {},
   "outputs": [
    {
     "name": "stdout",
     "output_type": "stream",
     "text": [
      "Posts com rótulo 2: \n",
      "\n",
      "3774    Nos não odiamos nem a você que tanto nos prejudicou. Nos amamos o povo brasileiro e o Brasil. Mas repudiamos as suas praticas lula.\\n\n",
      "2508                Sonho seria  @simonetebetbr  e  @cirogomes  no segundo turno!! Por que votar em bozo e Lula com esses dois candidatos??\\n\n",
      "3617                                                                                                  Bolsonaro empata com Lula em Dezembro\\n\n",
      "1042                                      a conciliação estará finalmente consumada quando lula e alckmin usarem metadinha neste aplicativo\\n\n",
      "3424                                                             Lula é do partido dos trabalhadores mais que nunca trabalhou #lulaladrao #\\n\n",
      "Name: tweet, dtype: object\n",
      "\n",
      "\n",
      "\n",
      "Posts com rótulo 1: \n",
      "\n",
      "4312                                Elegante, atualizada e o que fere a esquerda, não ter alguma esquerdista que faça frente a Michelle. Bolsonaro 22.\\n\n",
      "4294                                                                      Queria saber que mal eu fiz pra minha vó achar que eu vou votar no bolsonaro\\n\n",
      "1224                                               Olá  @LulaOficial  @cirogomes  @simonetebetbr  hahahahaha #BolsonaroReeleitoEm2022  #BoicoteAoPSD55\\n\n",
      "828     Minha mãe disse que se eu votar no Bolsonaro ela me dá o que eu quiser da shopee, será que vale apena votar no Bolsonaro pra ganhar um wings? \\n\n",
      "1396                                                                                                   Chupa  @simonetebetbr  @LulaOficial  @cirogomes\\n\n",
      "Name: tweet, dtype: object\n",
      "\n",
      "\n",
      "\n",
      "Posts com rótulo 0: \n",
      "\n",
      "561                                                                                                                             Lista de candidatos odiados por suas equipes:  - Sergio Moro  - Ciro Gomes\\n\n",
      "1969                                                                                                                                                      1. O Bolsonaro me morrer 2. O Ciro Gomes morrer.\\n\n",
      "3458                                                        ciro gomes em 2018 indo para Paris para  não votar no segundo turno deolane em 2022 indo para fazenda para não votar em nenhum dos dois turnos\\n\n",
      "591     Lula tem medo do Ciro. Ele sabe que se Ciro vencer, ele n volta ao poder. Fonte: https://otempo.com.br/politica/delfim-neto-diz-que-pt-e-lula-trairam-ciro-em-2018-e-elegeram-bolsonaro-1.2362370…\\n\n",
      "3113          Estão tentando pegar o Ciro Gomes naquilo que, na minha opinião, infelizmente o distancia dos demais candidados e o impede de ser entendido pela massa, a sua linguagem técnica. Sim, num...\\n\n",
      "Name: tweet, dtype: object\n",
      "\n",
      "\n",
      "\n"
     ]
    }
   ],
   "source": [
    "pd.set_option('display.max_colwidth', None)\n",
    "for rotulo in df.rotulo.unique():\n",
    "    amostra = df[df.rotulo==rotulo].sample(n=5)\n",
    "    print(f\"Posts com rótulo {rotulo}: \\n\")\n",
    "    print(amostra['tweet'])\n",
    "    print('\\n\\n')\n"
   ]
  },
  {
   "cell_type": "code",
   "execution_count": null,
   "id": "b1304090",
   "metadata": {},
   "outputs": [],
   "source": []
  }
 ],
 "metadata": {
  "kernelspec": {
   "display_name": "Python 3 (ipykernel)",
   "language": "python",
   "name": "python3"
  },
  "language_info": {
   "codemirror_mode": {
    "name": "ipython",
    "version": 3
   },
   "file_extension": ".py",
   "mimetype": "text/x-python",
   "name": "python",
   "nbconvert_exporter": "python",
   "pygments_lexer": "ipython3",
   "version": "3.9.12"
  }
 },
 "nbformat": 4,
 "nbformat_minor": 5
}
