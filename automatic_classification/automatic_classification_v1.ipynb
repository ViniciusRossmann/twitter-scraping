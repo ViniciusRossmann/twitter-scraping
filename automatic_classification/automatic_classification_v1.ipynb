{
 "cells": [
  {
   "cell_type": "markdown",
   "id": "b3e00d32",
   "metadata": {},
   "source": [
    "<Center>\n",
    "<h2>FAESA - CENTRO UNIVERSITÁRIO</h2>\n",
    "<h1>PROJETO INTEGRADOR COMPUTAÇÃO IV</h1>\n",
    "\n",
    "<h3>Classificação automática de postagens</h3>\n",
    "\n",
    "</Center>"
   ]
  },
  {
   "cell_type": "markdown",
   "id": "9669174f",
   "metadata": {},
   "source": [
    "#### Importanto as bibliotecas necessárias:"
   ]
  },
  {
   "cell_type": "code",
   "execution_count": 13,
   "id": "3cfcb692",
   "metadata": {},
   "outputs": [],
   "source": [
    "import pandas as pd\n",
    "import numpy as np\n",
    "from sklearn.tree import DecisionTreeClassifier\n",
    "from sklearn.neighbors import KNeighborsClassifier\n",
    "from sklearn.model_selection import KFold, cross_val_score, cross_validate\n",
    "from sklearn.feature_selection import RFE"
   ]
  },
  {
   "cell_type": "markdown",
   "id": "fbdcd459",
   "metadata": {},
   "source": [
    "#### Preparando os datasets com as postagens vetorizadas e rotuladas:"
   ]
  },
  {
   "cell_type": "code",
   "execution_count": 5,
   "id": "bc00c70b",
   "metadata": {},
   "outputs": [],
   "source": [
    "path = '../data/'\n",
    "vetorizacao_tf = pd.read_csv(path+'vetorizacao_tf.csv')\n",
    "vetorizacao_idf = pd.read_csv(path+'vetorizacao_idf.csv')\n",
    "vetorizacao_tfidf = pd.read_csv(path+'vetorizacao_tfidf.csv')"
   ]
  },
  {
   "cell_type": "markdown",
   "id": "17d7a7f5",
   "metadata": {},
   "source": [
    "### Treinando e avaliando modelos de Aprendizagem Supervisionada\n",
    "Para a classificação, foram escolhidos os modelos KNeighborsClassifier e DecisionTreeClassifier"
   ]
  },
  {
   "cell_type": "code",
   "execution_count": 8,
   "id": "ef334136",
   "metadata": {},
   "outputs": [],
   "source": [
    "models = []\n",
    "models.append(('DecisionTreeClassifier', DecisionTreeClassifier()))\n",
    "models.append(('KNeighborsClassifier', KNeighborsClassifier()))"
   ]
  },
  {
   "cell_type": "code",
   "execution_count": 11,
   "id": "b38aa1bc",
   "metadata": {},
   "outputs": [],
   "source": [
    "metricas = ['recall', 'precision', 'f1_macro', 'f1_micro' ]\n",
    "kfold = KFold(n_splits=10, shuffle=True)"
   ]
  },
  {
   "cell_type": "code",
   "execution_count": null,
   "id": "bbd458b9",
   "metadata": {},
   "outputs": [],
   "source": [
    "resultados = []\n",
    "modelos = []\n",
    "\n",
    "for name, model in models:\n",
    "    modelos.append(name)\n",
    "    \n",
    "    # Feature selection\n",
    "    try:\n",
    "        seletor = RFE(estimator=model)\n",
    "        seletor = seletor.fit(X_treinob, y_treinob)\n",
    "        indice = seletor.get_support(indices=True)\n",
    "        outcome = y_treinob\n",
    "        predictor = df_treino_balanceado.iloc[:,indice].values\n",
    "    except:\n",
    "        outcome = y_treinob\n",
    "        predictor = X_treinob\n",
    "    \n",
    "    # Validação cruzada\n",
    "    cv_result = cross_validate(model, predictor, outcome, cv=kfold, scoring=metricas, verbose=False)\n",
    "    result = []\n",
    "    for metrica in metricas:\n",
    "        key = \"test_\"+metrica;\n",
    "        result.append(cv_result[key].mean())\n",
    "    resultados.append(result)"
   ]
  },
  {
   "cell_type": "markdown",
   "id": "2c2113cb",
   "metadata": {},
   "source": [
    "#### Avaliando os modelos:"
   ]
  },
  {
   "cell_type": "code",
   "execution_count": null,
   "id": "f17c3f3d",
   "metadata": {},
   "outputs": [],
   "source": [
    "tabela_resultado = pd.DataFrame(data=resultados, columns=metricas, index=modelos)\n",
    "tabela_resultado.show()"
   ]
  },
  {
   "cell_type": "code",
   "execution_count": null,
   "id": "e7f482f3",
   "metadata": {},
   "outputs": [],
   "source": [
    "ax = tabela_resultado.plot.bar(figsize=(10, 5))\n",
    "ax.legend(bbox_to_anchor=(1, 1))"
   ]
  },
  {
   "cell_type": "markdown",
   "id": "9eb2a719",
   "metadata": {},
   "source": [
    "Podemos observar que o modelo que se saiu melhor foi o <b>____________________</b>, então iremos utilizálo para classificar as postagens não rotuladas."
   ]
  },
  {
   "cell_type": "markdown",
   "id": "acdc4342",
   "metadata": {},
   "source": [
    "### Classificação de novas postagens"
   ]
  },
  {
   "cell_type": "markdown",
   "id": "732bc394",
   "metadata": {},
   "source": [
    "#### Preparando datasets para teste:"
   ]
  },
  {
   "cell_type": "code",
   "execution_count": null,
   "id": "d8276d31",
   "metadata": {},
   "outputs": [],
   "source": [
    "x_test = df_teste[df_teste.columns[:-1]].values\n",
    "y_test = df_teste[df_teste.columns[-1:]].values.ravel()"
   ]
  },
  {
   "cell_type": "markdown",
   "id": "5d9a1ecf",
   "metadata": {},
   "source": [
    "#### Efetuando as classificações:"
   ]
  },
  {
   "cell_type": "code",
   "execution_count": null,
   "id": "7c46adc7",
   "metadata": {},
   "outputs": [],
   "source": [
    "\n",
    "\n",
    "model = ## modelo, ex: GradientBoostingClassifier()\n",
    "model.fit(X_treinob, y_treinob)\n",
    "predict = model.predict(x_test)"
   ]
  },
  {
   "cell_type": "markdown",
   "id": "137f1f1b",
   "metadata": {},
   "source": [
    "### Avaliação dos resultados"
   ]
  },
  {
   "cell_type": "markdown",
   "id": "0e4d1001",
   "metadata": {},
   "source": [
    "#### Nuvem de palavras:"
   ]
  },
  {
   "cell_type": "code",
   "execution_count": null,
   "id": "a08dda20",
   "metadata": {},
   "outputs": [],
   "source": []
  },
  {
   "cell_type": "markdown",
   "id": "e4e650df",
   "metadata": {},
   "source": [
    "<b>Exemplos de postagens classificadas:</b>"
   ]
  },
  {
   "cell_type": "code",
   "execution_count": null,
   "id": "8370c514",
   "metadata": {},
   "outputs": [],
   "source": []
  },
  {
   "cell_type": "markdown",
   "id": "ca31198f",
   "metadata": {},
   "source": [
    "#### Conclusões"
   ]
  },
  {
   "cell_type": "markdown",
   "id": "e4fdd096",
   "metadata": {},
   "source": [
    "Conclusao..."
   ]
  }
 ],
 "metadata": {
  "kernelspec": {
   "display_name": "Python 3 (ipykernel)",
   "language": "python",
   "name": "python3"
  },
  "language_info": {
   "codemirror_mode": {
    "name": "ipython",
    "version": 3
   },
   "file_extension": ".py",
   "mimetype": "text/x-python",
   "name": "python",
   "nbconvert_exporter": "python",
   "pygments_lexer": "ipython3",
   "version": "3.9.12"
  }
 },
 "nbformat": 4,
 "nbformat_minor": 5
}
