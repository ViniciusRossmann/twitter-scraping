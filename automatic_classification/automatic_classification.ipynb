{
 "cells": [
  {
   "cell_type": "markdown",
   "id": "b3e00d32",
   "metadata": {},
   "source": [
    "<Center>\n",
    "<h2>FAESA - CENTRO UNIVERSITÁRIO</h2>\n",
    "<h1>PROJETO INTEGRADOR COMPUTAÇÃO IV</h1>\n",
    "\n",
    "<h3>Classificação automática de postagens</h3>\n",
    "\n",
    "</Center>"
   ]
  },
  {
   "cell_type": "markdown",
   "id": "9669174f",
   "metadata": {},
   "source": [
    "#### Importanto as bibliotecas necessárias:"
   ]
  },
  {
   "cell_type": "code",
   "execution_count": 78,
   "id": "3cfcb692",
   "metadata": {},
   "outputs": [],
   "source": [
    "import pandas as pd\n",
    "import numpy as np\n",
    "from sklearn.tree import DecisionTreeClassifier\n",
    "from sklearn.neighbors import KNeighborsClassifier\n",
    "from sklearn.model_selection import KFold, cross_val_score, cross_validate\n",
    "from sklearn.feature_selection import RFE\n",
    "from imblearn.under_sampling import RandomUnderSampler\n",
    "import matplotlib.pyplot as plt\n",
    "from sklearn.metrics import make_scorer, f1_score, recall_score, precision_score\n",
    "from wordcloud import WordCloud \n",
    "from sklearn.feature_extraction.text import CountVectorizer"
   ]
  },
  {
   "cell_type": "markdown",
   "id": "fbdcd459",
   "metadata": {},
   "source": [
    "#### Preparando os datasets com as postagens vetorizadas e rotuladas:"
   ]
  },
  {
   "cell_type": "code",
   "execution_count": 79,
   "id": "bc00c70b",
   "metadata": {},
   "outputs": [],
   "source": [
    "path = '../data/'\n",
    "vetorizacao_tf = pd.read_csv(path+'classified_vectorization/classified_tfidf.csv')\n",
    "vetorizacao_idf = pd.read_csv(path+'classified_vectorization/classified_tfidf.csv')\n",
    "vetorizacao_tfidf = pd.read_csv(path+'classified_vectorization/classified_tfidf.csv')\n",
    "\n",
    "with open('../data/posts/new_tweets.csv', encoding=\"utf8\") as file:\n",
    "    novos_tweets = file.readlines()"
   ]
  },
  {
   "cell_type": "code",
   "execution_count": 16,
   "id": "119a99a5",
   "metadata": {},
   "outputs": [
    {
     "data": {
      "text/plain": [
       "<matplotlib.legend.Legend at 0x2013f0b8430>"
      ]
     },
     "execution_count": 16,
     "metadata": {},
     "output_type": "execute_result"
    },
    {
     "data": {
      "image/png": "[encoded data removed]",
      "text/plain": [
       "<Figure size 1080x576 with 1 Axes>"
      ]
     },
     "metadata": {},
     "output_type": "display_data"
    }
   ],
   "source": [
    "#y_treino = vetorizacao_tfidf.iloc[:,-1]\n",
    "#y_treino\n",
    "\n",
    "x_treino = vetorizacao_tfidf.iloc[:-1,]\n",
    "x_treino\n",
    "\n",
    "vetorizacao_tfidf['rotulo'].value_counts().plot.pie(autopct='%1.1f%%', startangle=180, figsize=(15,8))\n",
    "\n",
    "rus = RandomUnderSampler()\n",
    "X_treino, y_treino = rus.fit_resample(vetorizacao_tfidf[vetorizacao_tfidf.columns[:-1]].values, vetorizacao_tfidf[vetorizacao_tfidf.columns[-1:]].values.ravel())\n",
    "df_treino_tfidf = pd.DataFrame(columns=vetorizacao_tfidf.columns)\n",
    "for index, name in zip(range(len(vetorizacao_tfidf.columns)), vetorizacao_tfidf.columns):\n",
    "    if (index<len(df_treino_tfidf.columns)-1):\n",
    "        df_treino_tfidf[name] = X_treino[:,index]\n",
    "    else:\n",
    "        df_treino_tfidf[name] = y_treino\n",
    "        \n",
    "df_treino_tfidf['rotulo'].value_counts().plot.pie(autopct='%1.1f%%', startangle=180, figsize=(15,8)) # mostra a quantidade dos valores\n",
    "plt.legend(df_treino_tfidf['rotulo'].value_counts(), title=\"Quantidade\")"
   ]
  },
  {
   "cell_type": "markdown",
   "id": "17d7a7f5",
   "metadata": {},
   "source": [
    "### Treinando e avaliando modelos de Aprendizagem Supervisionada\n",
    "Para a classificação, foram escolhidos os modelos KNeighborsClassifier e DecisionTreeClassifier"
   ]
  },
  {
   "cell_type": "code",
   "execution_count": 69,
   "id": "ef334136",
   "metadata": {},
   "outputs": [],
   "source": [
    "models = []\n",
    "models.append(('DecisionTreeClassifier', DecisionTreeClassifier()))\n",
    "#models.append(('KNeighborsClassifier', KNeighborsClassifier()))"
   ]
  },
  {
   "cell_type": "code",
   "execution_count": 63,
   "id": "b38aa1bc",
   "metadata": {},
   "outputs": [],
   "source": [
    "metricas = ['f1_micro', 'f1_macro', 'precision' , 'recall']\n",
    "kfold = KFold(n_splits=10, shuffle=True)\n",
    "\n",
    "scorers = {\n",
    "            'precision': make_scorer(precision_score, average='weighted'),\n",
    "            'recall': make_scorer(recall_score, average='weighted'),\n",
    "            'f1_micro': make_scorer(f1_score, average='micro'),\n",
    "            'f1_macro': make_scorer(f1_score, average='macro'),\n",
    "          }"
   ]
  },
  {
   "cell_type": "code",
   "execution_count": 70,
   "id": "bbd458b9",
   "metadata": {},
   "outputs": [],
   "source": [
    "resultados = []\n",
    "modelos = []\n",
    "\n",
    "for name, model in models:\n",
    "    modelos.append(name)\n",
    "    \n",
    "    # Feature selection\n",
    "    #try:\n",
    "    seletor = RFE(estimator=model)\n",
    "    seletor = seletor.fit(X_treino, y_treino)\n",
    "    indice = seletor.get_support(indices=True)\n",
    "    outcome = y_treino\n",
    "    predictor = df_treino_tfidf.iloc[:,indice].values\n",
    "    #except:\n",
    "    #outcome = y_treino\n",
    "    #predictor = X_treino\n",
    "    \n",
    "    # Validação cruzada\n",
    "    cv_result = cross_validate(model, predictor, outcome, cv=kfold, scoring=scorers, verbose=False)\n",
    "    result = []\n",
    "    for metrica in scorers:\n",
    "        key = \"test_\"+metrica;\n",
    "        result.append(cv_result[key].mean())\n",
    "    resultados.append(result)"
   ]
  },
  {
   "cell_type": "code",
   "execution_count": 71,
   "id": "d8b3bd55",
   "metadata": {},
   "outputs": [
    {
     "data": {
      "text/html": [
       "<div>\n",
       "<style scoped>\n",
       "    .dataframe tbody tr th:only-of-type {\n",
       "        vertical-align: middle;\n",
       "    }\n",
       "\n",
       "    .dataframe tbody tr th {\n",
       "        vertical-align: top;\n",
       "    }\n",
       "\n",
       "    .dataframe thead th {\n",
       "        text-align: right;\n",
       "    }\n",
       "</style>\n",
       "<table border=\"1\" class=\"dataframe\">\n",
       "  <thead>\n",
       "    <tr style=\"text-align: right;\">\n",
       "      <th></th>\n",
       "      <th>precision</th>\n",
       "      <th>recall</th>\n",
       "      <th>f1_micro</th>\n",
       "      <th>f1_macro</th>\n",
       "    </tr>\n",
       "  </thead>\n",
       "  <tbody>\n",
       "    <tr>\n",
       "      <th>DecisionTreeClassifier</th>\n",
       "      <td>0.955758</td>\n",
       "      <td>0.955093</td>\n",
       "      <td>0.955093</td>\n",
       "      <td>0.954787</td>\n",
       "    </tr>\n",
       "  </tbody>\n",
       "</table>\n",
       "</div>"
      ],
      "text/plain": [
       "                        precision    recall  f1_micro  f1_macro\n",
       "DecisionTreeClassifier   0.955758  0.955093  0.955093  0.954787"
      ]
     },
     "execution_count": 71,
     "metadata": {},
     "output_type": "execute_result"
    }
   ],
   "source": [
    "tabela_resultado = pd.DataFrame(data=resultados, columns=scorers.keys(), index=modelos)\n",
    "tabela_resultado"
   ]
  },
  {
   "cell_type": "markdown",
   "id": "2c2113cb",
   "metadata": {},
   "source": [
    "#### Avaliando os modelos:"
   ]
  },
  {
   "cell_type": "code",
   "execution_count": null,
   "id": "f17c3f3d",
   "metadata": {},
   "outputs": [],
   "source": [
    "tabela_resultado = pd.DataFrame(data=resultados, columns=metricas, index=modelos)\n",
    "tabela_resultado.show()"
   ]
  },
  {
   "cell_type": "code",
   "execution_count": null,
   "id": "e7f482f3",
   "metadata": {},
   "outputs": [],
   "source": [
    "ax = tabela_resultado.plot.bar(figsize=(10, 5))\n",
    "ax.legend(bbox_to_anchor=(1, 1))"
   ]
  },
  {
   "cell_type": "markdown",
   "id": "9eb2a719",
   "metadata": {},
   "source": [
    "Podemos observar que o modelo que se saiu melhor foi o <b>____________________</b>, então iremos utilizálo para classificar as postagens não rotuladas."
   ]
  },
  {
   "cell_type": "markdown",
   "id": "acdc4342",
   "metadata": {},
   "source": [
    "### Classificação de novas postagens"
   ]
  },
  {
   "cell_type": "markdown",
   "id": "732bc394",
   "metadata": {},
   "source": [
    "#### Preparando datasets para teste:"
   ]
  },
  {
   "cell_type": "code",
   "execution_count": null,
   "id": "d8276d31",
   "metadata": {},
   "outputs": [],
   "source": [
    "x_test = df_teste[df_teste.columns[:-1]].values\n",
    "y_test = df_teste[df_teste.columns[-1:]].values.ravel()"
   ]
  },
  {
   "cell_type": "markdown",
   "id": "5d9a1ecf",
   "metadata": {},
   "source": [
    "#### Efetuando as classificações:"
   ]
  },
  {
   "cell_type": "code",
   "execution_count": null,
   "id": "7c46adc7",
   "metadata": {},
   "outputs": [],
   "source": [
    "\n",
    "\n",
    "model = ## modelo, ex: GradientBoostingClassifier()\n",
    "model.fit(X_treinob, y_treinob)\n",
    "predict = model.predict(x_test)"
   ]
  },
  {
   "cell_type": "markdown",
   "id": "137f1f1b",
   "metadata": {},
   "source": [
    "### Avaliação dos resultados"
   ]
  },
  {
   "cell_type": "markdown",
   "id": "0e4d1001",
   "metadata": {},
   "source": [
    "#### Nuvem de palavras:"
   ]
  },
  {
   "cell_type": "code",
   "execution_count": 77,
   "id": "a08dda20",
   "metadata": {},
   "outputs": [
    {
     "ename": "TypeError",
     "evalue": "generate_from_frequencies() got an unexpected keyword argument 'text'",
     "output_type": "error",
     "traceback": [
      "\u001b[1;31m---------------------------------------------------------------------------\u001b[0m",
      "\u001b[1;31mTypeError\u001b[0m                                 Traceback (most recent call last)",
      "Input \u001b[1;32mIn [77]\u001b[0m, in \u001b[0;36m<cell line: 4>\u001b[1;34m()\u001b[0m\n\u001b[0;32m      1\u001b[0m wc \u001b[38;5;241m=\u001b[39m WordCloud(background_color\u001b[38;5;241m=\u001b[39m\u001b[38;5;124m\"\u001b[39m\u001b[38;5;124mwhite\u001b[39m\u001b[38;5;124m\"\u001b[39m, max_words\u001b[38;5;241m=\u001b[39m\u001b[38;5;241m2000\u001b[39m,\n\u001b[0;32m      2\u001b[0m                max_font_size\u001b[38;5;241m=\u001b[39m\u001b[38;5;241m256\u001b[39m,\n\u001b[0;32m      3\u001b[0m                random_state\u001b[38;5;241m=\u001b[39m\u001b[38;5;241m42\u001b[39m, width\u001b[38;5;241m=\u001b[39m\u001b[38;5;241m500\u001b[39m, height\u001b[38;5;241m=\u001b[39m\u001b[38;5;241m500\u001b[39m)\n\u001b[1;32m----> 4\u001b[0m \u001b[43mwc\u001b[49m\u001b[38;5;241;43m.\u001b[39;49m\u001b[43mgenerate_from_frequencies\u001b[49m\u001b[43m(\u001b[49m\u001b[43mtext\u001b[49m\u001b[43m \u001b[49m\u001b[38;5;241;43m=\u001b[39;49m\u001b[43m \u001b[49m\u001b[43mdf_treino_tfidf\u001b[49m\u001b[43m[\u001b[49m\u001b[38;5;124;43m'\u001b[39;49m\u001b[38;5;124;43mrotulo\u001b[39;49m\u001b[38;5;124;43m'\u001b[39;49m\u001b[43m]\u001b[49m\u001b[38;5;241;43m.\u001b[39;49m\u001b[43mvalues\u001b[49m\u001b[43m \u001b[49m\u001b[43m)\u001b[49m\n\u001b[0;32m      5\u001b[0m plt\u001b[38;5;241m.\u001b[39mimshow(wc, interpolation\u001b[38;5;241m=\u001b[39m\u001b[38;5;124m\"\u001b[39m\u001b[38;5;124mbilinear\u001b[39m\u001b[38;5;124m\"\u001b[39m)\n\u001b[0;32m      6\u001b[0m plt\u001b[38;5;241m.\u001b[39maxis(\u001b[38;5;124m'\u001b[39m\u001b[38;5;124moff\u001b[39m\u001b[38;5;124m'\u001b[39m)\n",
      "\u001b[1;31mTypeError\u001b[0m: generate_from_frequencies() got an unexpected keyword argument 'text'"
     ]
    }
   ],
   "source": [
    "wc = WordCloud(background_color=\"white\", max_words=2000,\n",
    "               max_font_size=256,\n",
    "               random_state=42, width=500, height=500)\n",
    "wc.generate_from_frequencies(text = df_treino_tfidf['rotulo'].values )\n",
    "plt.imshow(wc, interpolation=\"bilinear\")\n",
    "plt.axis('off')\n",
    "plt.show()"
   ]
  },
  {
   "cell_type": "markdown",
   "id": "e4e650df",
   "metadata": {},
   "source": [
    "<b>Exemplos de postagens classificadas:</b>"
   ]
  },
  {
   "cell_type": "code",
   "execution_count": 86,
   "id": "8370c514",
   "metadata": {},
   "outputs": [
    {
     "data": {
      "text/html": [
       "<div>\n",
       "<style scoped>\n",
       "    .dataframe tbody tr th:only-of-type {\n",
       "        vertical-align: middle;\n",
       "    }\n",
       "\n",
       "    .dataframe tbody tr th {\n",
       "        vertical-align: top;\n",
       "    }\n",
       "\n",
       "    .dataframe thead th {\n",
       "        text-align: right;\n",
       "    }\n",
       "</style>\n",
       "<table border=\"1\" class=\"dataframe\">\n",
       "  <thead>\n",
       "    <tr style=\"text-align: right;\">\n",
       "      <th></th>\n",
       "      <th>09</th>\n",
       "      <th>100</th>\n",
       "      <th>12</th>\n",
       "      <th>13</th>\n",
       "      <th>2022</th>\n",
       "      <th>22</th>\n",
       "      <th>agora</th>\n",
       "      <th>ainda</th>\n",
       "      <th>anos</th>\n",
       "      <th>ao</th>\n",
       "      <th>...</th>\n",
       "      <th>você</th>\n",
       "      <th>vocês</th>\n",
       "      <th>vota</th>\n",
       "      <th>votar</th>\n",
       "      <th>voto</th>\n",
       "      <th>votos</th>\n",
       "      <th>vou</th>\n",
       "      <th>vídeo</th>\n",
       "      <th>youtu</th>\n",
       "      <th>youtube</th>\n",
       "    </tr>\n",
       "  </thead>\n",
       "  <tbody>\n",
       "    <tr>\n",
       "      <th>0</th>\n",
       "      <td>31</td>\n",
       "      <td>16</td>\n",
       "      <td>24</td>\n",
       "      <td>20</td>\n",
       "      <td>36</td>\n",
       "      <td>20</td>\n",
       "      <td>61</td>\n",
       "      <td>18</td>\n",
       "      <td>22</td>\n",
       "      <td>64</td>\n",
       "      <td>...</td>\n",
       "      <td>34</td>\n",
       "      <td>19</td>\n",
       "      <td>22</td>\n",
       "      <td>54</td>\n",
       "      <td>42</td>\n",
       "      <td>19</td>\n",
       "      <td>30</td>\n",
       "      <td>44</td>\n",
       "      <td>19</td>\n",
       "      <td>28</td>\n",
       "    </tr>\n",
       "  </tbody>\n",
       "</table>\n",
       "<p>1 rows × 200 columns</p>\n",
       "</div>"
      ],
      "text/plain": [
       "   09  100  12  13  2022  22  agora  ainda  anos  ao  ...  você  vocês  vota  \\\n",
       "0  31   16  24  20    36  20     61     18    22  64  ...    34     19    22   \n",
       "\n",
       "   votar  voto  votos  vou  vídeo  youtu  youtube  \n",
       "0     54    42     19   30     44     19       28  \n",
       "\n",
       "[1 rows x 200 columns]"
      ]
     },
     "execution_count": 86,
     "metadata": {},
     "output_type": "execute_result"
    }
   ],
   "source": [
    "palavras = ' '.join(novos_tweets)\n",
    "palavras\n",
    "\n",
    "cv = CountVectorizer(max_features=200)\n",
    "result_tf = cv.fit_transform([palavras])\n",
    "df_tf = pd.DataFrame(data = result_tf.toarray(), columns = cv.get_feature_names_out())\n",
    "df_tf"
   ]
  },
  {
   "cell_type": "markdown",
   "id": "ca31198f",
   "metadata": {},
   "source": [
    "#### Conclusões"
   ]
  },
  {
   "cell_type": "markdown",
   "id": "e4fdd096",
   "metadata": {},
   "source": [
    "Conclusao..."
   ]
  }
 ],
 "metadata": {
  "kernelspec": {
   "display_name": "Python 3 (ipykernel)",
   "language": "python",
   "name": "python3"
  },
  "language_info": {
   "codemirror_mode": {
    "name": "ipython",
    "version": 3
   },
   "file_extension": ".py",
   "mimetype": "text/x-python",
   "name": "python",
   "nbconvert_exporter": "python",
   "pygments_lexer": "ipython3",
   "version": "3.9.12"
  }
 },
 "nbformat": 4,
 "nbformat_minor": 5
}
