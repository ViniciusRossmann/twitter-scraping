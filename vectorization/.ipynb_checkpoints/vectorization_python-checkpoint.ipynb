{
 "cells": [
  {
   "cell_type": "markdown",
   "metadata": {},
   "source": [
    "<Center>\n",
    "<h2>FAESA - CENTRO UNIVERSITÁRIO</h2>\n",
    "<h1>PROJETO INTEGRADOR COMPUTAÇÃO IV</h1>\n",
    "\n",
    "<h3>Vetorização de postagens</h3>\n",
    "\n",
    "</Center>"
   ]
  },
  {
   "cell_type": "markdown",
   "metadata": {
    "id": "lMU8aCBwUXO5"
   },
   "source": [
    "#### Importanto as bibliotecas necessárias:"
   ]
  },
  {
   "cell_type": "code",
   "execution_count": 1,
   "metadata": {
    "colab": {
     "base_uri": "https://localhost:8080/"
    },
    "id": "YDDYRMEeFUML",
    "outputId": "94d63dd6-3cac-4847-8f03-4d8267842f5f"
   },
   "outputs": [],
   "source": [
    "import pandas as pd\n",
    "import nltk\n",
    "import re\n",
    "from nltk.corpus import stopwords\n",
    "from sklearn.feature_extraction.text import TfidfVectorizer, CountVectorizer"
   ]
  },
  {
   "cell_type": "markdown",
   "metadata": {
    "id": "eAQM097jUbzC"
   },
   "source": [
    "#### Lendo as postagens previamente capturadas"
   ]
  },
  {
   "cell_type": "code",
   "execution_count": 2,
   "metadata": {
    "colab": {
     "base_uri": "https://localhost:8080/",
     "height": 217
    },
    "id": "PBVitNQVFvyF",
    "outputId": "e6498441-6874-484d-fa95-15ac73b00d65"
   },
   "outputs": [],
   "source": [
    "with open('../data/posts/tweets.csv', encoding=\"utf8\") as file:\n",
    "    tweets = file.readlines()"
   ]
  },
  {
   "cell_type": "markdown",
   "metadata": {
    "id": "JLinRSJLUiqD"
   },
   "source": [
    "#### Pré-processando os posts (removendo links, números, etc...)"
   ]
  },
  {
   "cell_type": "code",
   "execution_count": 3,
   "metadata": {
    "id": "I2fAm6hcUlEL"
   },
   "outputs": [],
   "source": [
    "def remove_numbers(text):\n",
    "  text = re.sub(\"\\d+\", '', text)\n",
    "  return text\n",
    "\n",
    "def remove_http(text):\n",
    "  text = re.sub(\"https?://t.co/[A-Za-z0-9]*\", ' ', text)\n",
    "  return text\n",
    "\n",
    "def convert_to_lower(text):\n",
    "  return text.lower()\n",
    "\n",
    "def preprocess_text(text):\n",
    "  text = text.replace(\"\\n\", \"\")\n",
    "  text = remove_numbers(text)\n",
    "  text = remove_http(text)\n",
    "  text = convert_to_lower(text)\n",
    "  return text\n",
    "\n",
    "for index, element in enumerate(tweets):\n",
    "    tweets[index] = preprocess_text(element)"
   ]
  },
  {
   "cell_type": "code",
   "execution_count": 4,
   "metadata": {},
   "outputs": [],
   "source": [
    "stop_words = set(stopwords.words('portuguese'))"
   ]
  },
  {
   "cell_type": "markdown",
   "metadata": {
    "id": "sdsl7ItzUfZN"
   },
   "source": [
    "## Aplicando a vetorização"
   ]
  },
  {
   "cell_type": "markdown",
   "metadata": {
    "id": "sdsl7ItzUfZN"
   },
   "source": [
    "### TF"
   ]
  },
  {
   "cell_type": "code",
   "execution_count": 5,
   "metadata": {},
   "outputs": [],
   "source": [
    "cv = CountVectorizer(stop_words=stop_words, max_features=200)\n",
    "result_tf = cv.fit_transform(tweets)\n",
    "df_tf = pd.DataFrame(data = result_tf.toarray(), columns = cv.get_feature_names_out())\n",
    "df_tf.to_csv('../data/vectorization/vectorization_tf.csv', index=False)"
   ]
  },
  {
   "cell_type": "markdown",
   "metadata": {
    "id": "sdsl7ItzUfZN"
   },
   "source": [
    "### TFxIDF"
   ]
  },
  {
   "cell_type": "code",
   "execution_count": 6,
   "metadata": {
    "colab": {
     "base_uri": "https://localhost:8080/"
    },
    "id": "fmXR5O-cF_qi",
    "outputId": "d6f49fbc-4b55-4d8c-b5b7-bbb9e7485751"
   },
   "outputs": [],
   "source": [
    "tfidf = TfidfVectorizer(stop_words=stop_words, max_features=200)\n",
    "result_tfidf = tfidf.fit_transform(tweets)\n",
    "df_tfidf = pd.DataFrame(result_tfidf.toarray().transpose(), index=tfidf.get_feature_names_out())\n",
    "df_tfidf = df_tfidf.T\n",
    "df_tfidf.to_csv('../data/vectorization/vectorization_tfidf.csv', index=False)"
   ]
  },
  {
   "cell_type": "markdown",
   "metadata": {
    "id": "sdsl7ItzUfZN"
   },
   "source": [
    "### IDF"
   ]
  },
  {
   "cell_type": "code",
   "execution_count": 7,
   "metadata": {},
   "outputs": [],
   "source": [
    "df_idf = df_tfidf/df_tf\n",
    "df_idf = df_idf.fillna(0)\n",
    "df_idf.to_csv('../data/vectorization/vectorization_idf.csv', index=False)"
   ]
  }
 ],
 "metadata": {
  "colab": {
   "provenance": []
  },
  "kernelspec": {
   "display_name": "Python 3 (ipykernel)",
   "language": "python",
   "name": "python3"
  },
  "language_info": {
   "codemirror_mode": {
    "name": "ipython",
    "version": 3
   },
   "file_extension": ".py",
   "mimetype": "text/x-python",
   "name": "python",
   "nbconvert_exporter": "python",
   "pygments_lexer": "ipython3",
   "version": "3.9.12"
  }
 },
 "nbformat": 4,
 "nbformat_minor": 1
}
