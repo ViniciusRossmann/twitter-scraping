{
 "cells": [
  {
   "cell_type": "markdown",
   "metadata": {
    "id": "lMU8aCBwUXO5"
   },
   "source": [
    "Importando bibliotecas"
   ]
  },
  {
   "cell_type": "code",
   "execution_count": 1,
   "metadata": {
    "colab": {
     "base_uri": "https://localhost:8080/"
    },
    "id": "YDDYRMEeFUML",
    "outputId": "94d63dd6-3cac-4847-8f03-4d8267842f5f"
   },
   "outputs": [
    {
     "name": "stderr",
     "output_type": "stream",
     "text": [
      "C:\\Users\\lucasjesus\\Anaconda3\\lib\\site-packages\\scipy\\__init__.py:146: UserWarning: A NumPy version >=1.16.5 and <1.23.0 is required for this version of SciPy (detected version 1.23.0\n",
      "  warnings.warn(f\"A NumPy version >={np_minversion} and <{np_maxversion}\"\n",
      "[nltk_data] Downloading package stopwords to\n",
      "[nltk_data]     C:\\Users\\lucasjesus\\AppData\\Roaming\\nltk_data...\n",
      "[nltk_data]   Package stopwords is already up-to-date!\n"
     ]
    }
   ],
   "source": [
    "import pandas as pd\n",
    "import nltk\n",
    "import re\n",
    "nltk.download('stopwords')\n",
    "from nltk.corpus import stopwords\n",
    "from sklearn.feature_extraction.text import TfidfVectorizer, CountVectorizer"
   ]
  },
  {
   "cell_type": "markdown",
   "metadata": {
    "id": "eAQM097jUbzC"
   },
   "source": [
    "Importando os posts"
   ]
  },
  {
   "cell_type": "code",
   "execution_count": 2,
   "metadata": {
    "colab": {
     "base_uri": "https://localhost:8080/",
     "height": 217
    },
    "id": "PBVitNQVFvyF",
    "outputId": "e6498441-6874-484d-fa95-15ac73b00d65"
   },
   "outputs": [],
   "source": [
    "with open('../data/tweets.csv', encoding=\"utf8\") as file:\n",
    "    tweets = file.readlines()"
   ]
  },
  {
   "cell_type": "markdown",
   "metadata": {
    "id": "JLinRSJLUiqD"
   },
   "source": [
    "Pre processando os posts (remove links, números, etc)"
   ]
  },
  {
   "cell_type": "code",
   "execution_count": 3,
   "metadata": {
    "id": "I2fAm6hcUlEL"
   },
   "outputs": [
    {
     "ename": "NameError",
     "evalue": "name 'array' is not defined",
     "output_type": "error",
     "traceback": [
      "\u001b[1;31m---------------------------------------------------------------------------\u001b[0m",
      "\u001b[1;31mNameError\u001b[0m                                 Traceback (most recent call last)",
      "\u001b[1;32mC:\\Users\\LUCASJ~1\\AppData\\Local\\Temp/ipykernel_24252/4284352126.py\u001b[0m in \u001b[0;36m<module>\u001b[1;34m\u001b[0m\n\u001b[0;32m     17\u001b[0m   \u001b[1;32mreturn\u001b[0m \u001b[0mtext\u001b[0m\u001b[1;33m\u001b[0m\u001b[1;33m\u001b[0m\u001b[0m\n\u001b[0;32m     18\u001b[0m \u001b[1;33m\u001b[0m\u001b[0m\n\u001b[1;32m---> 19\u001b[1;33m \u001b[1;32mfor\u001b[0m \u001b[0mindex\u001b[0m\u001b[1;33m,\u001b[0m \u001b[0melement\u001b[0m \u001b[1;32min\u001b[0m \u001b[0menumerate\u001b[0m\u001b[1;33m(\u001b[0m\u001b[0marray\u001b[0m\u001b[1;33m)\u001b[0m\u001b[1;33m:\u001b[0m\u001b[1;33m\u001b[0m\u001b[1;33m\u001b[0m\u001b[0m\n\u001b[0m\u001b[0;32m     20\u001b[0m     \u001b[0mtweets\u001b[0m\u001b[1;33m[\u001b[0m\u001b[0mindex\u001b[0m\u001b[1;33m]\u001b[0m \u001b[1;33m=\u001b[0m \u001b[0mpreprocess_text\u001b[0m\u001b[1;33m(\u001b[0m\u001b[0melement\u001b[0m\u001b[1;33m)\u001b[0m\u001b[1;33m\u001b[0m\u001b[1;33m\u001b[0m\u001b[0m\n",
      "\u001b[1;31mNameError\u001b[0m: name 'array' is not defined"
     ]
    }
   ],
   "source": [
    "def remove_numbers(text):\n",
    "  text = re.sub(\"\\d+\", '', text)\n",
    "  return text\n",
    "\n",
    "def remove_http(text):\n",
    "  text = re.sub(\"https?://t.co/[A-Za-z0-9]*\", ' ', text)\n",
    "  return text\n",
    "\n",
    "def convert_to_lower(text):\n",
    "  return text.lower()\n",
    "\n",
    "def preprocess_text(text):\n",
    "  text = text.replace(\"\\n\", \"\")\n",
    "  text = remove_numbers(text)\n",
    "  text = remove_http(text)\n",
    "  text = convert_to_lower(text)\n",
    "  return text\n",
    "\n",
    "for index, element in enumerate(array):\n",
    "    tweets[index] = preprocess_text(element)"
   ]
  },
  {
   "cell_type": "markdown",
   "metadata": {
    "id": "sdsl7ItzUfZN"
   },
   "source": [
    "## Aplicando a vetorização"
   ]
  },
  {
   "cell_type": "markdown",
   "metadata": {
    "id": "sdsl7ItzUfZN"
   },
   "source": [
    "### tf"
   ]
  },
  {
   "cell_type": "code",
   "execution_count": 20,
   "metadata": {},
   "outputs": [],
   "source": [
    "cv = CountVectorizer()"
   ]
  },
  {
   "cell_type": "code",
   "execution_count": 31,
   "metadata": {},
   "outputs": [],
   "source": [
    "count_palavra = cv.fit_transform(tweets)\n",
    "tf = count_palavra.toarray()\n",
    "\n",
    "df_tf = pd.DataFrame(data = tf, columns = cv.get_feature_names_out())\n",
    "\n",
    "df_df.to_csv('../data/vetorizacao_tf.csv', index=False)"
   ]
  },
  {
   "cell_type": "markdown",
   "metadata": {
    "id": "sdsl7ItzUfZN"
   },
   "source": [
    "### df-idf"
   ]
  },
  {
   "cell_type": "code",
   "execution_count": 32,
   "metadata": {
    "colab": {
     "base_uri": "https://localhost:8080/"
    },
    "id": "fmXR5O-cF_qi",
    "outputId": "d6f49fbc-4b55-4d8c-b5b7-bbb9e7485751"
   },
   "outputs": [],
   "source": [
    "stop_words = set(stopwords.words('portuguese'))\n",
    "tfidf = TfidfVectorizer(stop_words=stop_words, max_features=120)\n",
    "  \n",
    "result = tfidf.fit_transform(tweets)\n",
    "\n",
    "df2 = pd.DataFrame(result.toarray().transpose(),\n",
    "                   index=tfidf.get_feature_names())\n",
    "\n",
    "#df3 = df2.T\n",
    "\n",
    "df3.to_csv('../data/vetorizacao_tfidf.csv', index=False)"
   ]
  },
  {
   "cell_type": "markdown",
   "metadata": {
    "id": "sdsl7ItzUfZN"
   },
   "source": [
    "### idf"
   ]
  },
  {
   "cell_type": "code",
   "execution_count": 41,
   "metadata": {},
   "outputs": [],
   "source": [
    "df_idf = df2/df_df\n",
    "df_idf = df_idf.fillna(0)\n",
    "df_idf.to_csv('../data/vetorizacao_idf.csv', index=False)"
   ]
  }
 ],
 "metadata": {
  "colab": {
   "provenance": []
  },
  "kernelspec": {
   "display_name": "Python 3 (ipykernel)",
   "language": "python",
   "name": "python3"
  },
  "language_info": {
   "codemirror_mode": {
    "name": "ipython",
    "version": 3
   },
   "file_extension": ".py",
   "mimetype": "text/x-python",
   "name": "python",
   "nbconvert_exporter": "python",
   "pygments_lexer": "ipython3",
   "version": "3.9.7"
  }
 },
 "nbformat": 4,
 "nbformat_minor": 1
}
