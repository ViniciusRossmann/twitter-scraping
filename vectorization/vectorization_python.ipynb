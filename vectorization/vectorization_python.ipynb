{
 "cells": [
  {
   "cell_type": "markdown",
   "metadata": {
    "id": "lMU8aCBwUXO5"
   },
   "source": [
    "Importando bibliotecas"
   ]
  },
  {
   "cell_type": "code",
   "execution_count": 1,
   "metadata": {
    "colab": {
     "base_uri": "https://localhost:8080/"
    },
    "id": "YDDYRMEeFUML",
    "outputId": "94d63dd6-3cac-4847-8f03-4d8267842f5f"
   },
   "outputs": [
    {
     "name": "stderr",
     "output_type": "stream",
     "text": [
      "[nltk_data] Downloading package stopwords to\n",
      "[nltk_data]     C:\\Users\\vinic\\AppData\\Roaming\\nltk_data...\n",
      "[nltk_data]   Package stopwords is already up-to-date!\n"
     ]
    }
   ],
   "source": [
    "import pandas as pd\n",
    "import nltk\n",
    "import re\n",
    "nltk.download('stopwords')\n",
    "from nltk.corpus import stopwords\n",
    "from sklearn.feature_extraction.text import TfidfVectorizer"
   ]
  },
  {
   "cell_type": "markdown",
   "metadata": {
    "id": "eAQM097jUbzC"
   },
   "source": [
    "Importando os posts"
   ]
  },
  {
   "cell_type": "code",
   "execution_count": 16,
   "metadata": {
    "colab": {
     "base_uri": "https://localhost:8080/",
     "height": 217
    },
    "id": "PBVitNQVFvyF",
    "outputId": "e6498441-6874-484d-fa95-15ac73b00d65"
   },
   "outputs": [],
   "source": [
    "with open('../data/tweets.csv', encoding=\"utf8\") as file:\n",
    "    tweets = file.readlines()"
   ]
  },
  {
   "cell_type": "markdown",
   "metadata": {
    "id": "JLinRSJLUiqD"
   },
   "source": [
    "Pre processando os posts (remove links, números, etc)"
   ]
  },
  {
   "cell_type": "code",
   "execution_count": 18,
   "metadata": {
    "id": "I2fAm6hcUlEL"
   },
   "outputs": [],
   "source": [
    "def remove_numbers(text):\n",
    "  text = re.sub(\"\\d+\", '', text)\n",
    "  return text\n",
    "\n",
    "def remove_http(text):\n",
    "  text = re.sub(\"https?://t.co/[A-Za-z0-9]*\", ' ', text)\n",
    "  return text\n",
    "\n",
    "def convert_to_lower(text):\n",
    "  return text.lower()\n",
    "\n",
    "def preprocess_text(text):\n",
    "  text = text.replace(\"\\n\", \"\")\n",
    "  text = remove_numbers(text)\n",
    "  text = remove_http(text)\n",
    "  text = convert_to_lower(text)\n",
    "  return text\n",
    "\n",
    "for index, element in enumerate(array):\n",
    "    tweets[index] = preprocess_text(element)"
   ]
  },
  {
   "cell_type": "markdown",
   "metadata": {
    "id": "sdsl7ItzUfZN"
   },
   "source": [
    "Aplicando a vetorização"
   ]
  },
  {
   "cell_type": "code",
   "execution_count": 21,
   "metadata": {
    "colab": {
     "base_uri": "https://localhost:8080/"
    },
    "id": "fmXR5O-cF_qi",
    "outputId": "d6f49fbc-4b55-4d8c-b5b7-bbb9e7485751"
   },
   "outputs": [
    {
     "name": "stderr",
     "output_type": "stream",
     "text": [
      "C:\\Users\\vinic\\anaconda3\\lib\\site-packages\\sklearn\\utils\\deprecation.py:87: FutureWarning: Function get_feature_names is deprecated; get_feature_names is deprecated in 1.0 and will be removed in 1.2. Please use get_feature_names_out instead.\n",
      "  warnings.warn(msg, category=FutureWarning)\n"
     ]
    }
   ],
   "source": [
    "stop_words = set(stopwords.words('portuguese'))\n",
    "tfidf = TfidfVectorizer(stop_words=stop_words, max_features=120)\n",
    "  \n",
    "result = tfidf.fit_transform(tweets)\n",
    "\n",
    "df2 = pd.DataFrame(result.toarray().transpose(),\n",
    "                   index=tfidf.get_feature_names())\n",
    "\n",
    "df3 = df2.T\n",
    "\n",
    "df3.to_csv('../data/vetorizacao.csv', index=False)"
   ]
  },
  {
   "cell_type": "code",
   "execution_count": null,
   "metadata": {
    "id": "FB2R-wp6LY-J"
   },
   "outputs": [],
   "source": []
  }
 ],
 "metadata": {
  "colab": {
   "provenance": []
  },
  "kernelspec": {
   "display_name": "Python 3 (ipykernel)",
   "language": "python",
   "name": "python3"
  },
  "language_info": {
   "codemirror_mode": {
    "name": "ipython",
    "version": 3
   },
   "file_extension": ".py",
   "mimetype": "text/x-python",
   "name": "python",
   "nbconvert_exporter": "python",
   "pygments_lexer": "ipython3",
   "version": "3.9.12"
  }
 },
 "nbformat": 4,
 "nbformat_minor": 1
}
